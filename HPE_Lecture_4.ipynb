{
  "nbformat": 4,
  "nbformat_minor": 0,
  "metadata": {
    "colab": {
      "name": "HPE_Lecture_4.ipynb",
      "provenance": [],
      "collapsed_sections": [],
      "authorship_tag": "ABX9TyPZuPqBlTqBSdVPgK047OOF",
      "include_colab_link": true
    },
    "kernelspec": {
      "name": "python3",
      "display_name": "Python 3"
    }
  },
  "cells": [
    {
      "cell_type": "markdown",
      "metadata": {
        "id": "view-in-github",
        "colab_type": "text"
      },
      "source": [
        "<a href=\"https://colab.research.google.com/github/Pogba666/DeepLearning/blob/main/HPE_Lecture_4.ipynb\" target=\"_parent\"><img src=\"https://colab.research.google.com/assets/colab-badge.svg\" alt=\"Open In Colab\"/></a>"
      ]
    },
    {
      "cell_type": "code",
      "metadata": {
        "id": "xb5wmIr7KtfW",
        "colab": {
          "base_uri": "https://localhost:8080/"
        },
        "outputId": "dc8490e3-2ca6-4c8a-e36e-42b34f5d4624"
      },
      "source": [
        "% tensorflow_version 1.x\r\n",
        "import tensorflow as tf\r\n",
        "import numpy as np\r\n",
        "print(tf.__version__)"
      ],
      "execution_count": null,
      "outputs": [
        {
          "output_type": "stream",
          "text": [
            "TensorFlow 1.x selected.\n",
            "1.15.2\n"
          ],
          "name": "stdout"
        }
      ]
    },
    {
      "cell_type": "code",
      "metadata": {
        "colab": {
          "base_uri": "https://localhost:8080/"
        },
        "id": "qOlauglwQ2EQ",
        "outputId": "a5a6a22f-39b1-42d4-9e89-02426eafbe14"
      },
      "source": [
        "from tensorflow import keras\r\n",
        "imdb = keras.datasets.imdb\r\n",
        "hp_dict_size = 10000  # HyperParameter choose based on frequency of usage\r\n",
        "(xtrain, ytrain), (xtest, ytest) = imdb.load_data(num_words=hp_dict_size)"
      ],
      "execution_count": null,
      "outputs": [
        {
          "output_type": "stream",
          "text": [
            "/tensorflow-1.15.2/python3.6/tensorflow_core/python/keras/datasets/imdb.py:129: VisibleDeprecationWarning: Creating an ndarray from ragged nested sequences (which is a list-or-tuple of lists-or-tuples-or ndarrays with different lengths or shapes) is deprecated. If you meant to do this, you must specify 'dtype=object' when creating the ndarray\n",
            "  x_train, y_train = np.array(xs[:idx]), np.array(labels[:idx])\n",
            "/tensorflow-1.15.2/python3.6/tensorflow_core/python/keras/datasets/imdb.py:130: VisibleDeprecationWarning: Creating an ndarray from ragged nested sequences (which is a list-or-tuple of lists-or-tuples-or ndarrays with different lengths or shapes) is deprecated. If you meant to do this, you must specify 'dtype=object' when creating the ndarray\n",
            "  x_test, y_test = np.array(xs[idx:]), np.array(labels[idx:])\n"
          ],
          "name": "stderr"
        }
      ]
    },
    {
      "cell_type": "code",
      "metadata": {
        "colab": {
          "base_uri": "https://localhost:8080/"
        },
        "id": "mbmTIEy_ZZKE",
        "outputId": "aabbdec3-d3f5-474f-efb5-168da7c87b69"
      },
      "source": [
        "print(ytrain[:10])\r\n",
        "# Gives a sentiment\r\n",
        "# 1 - Positive\r\n",
        "# 0 - Negative"
      ],
      "execution_count": null,
      "outputs": [
        {
          "output_type": "stream",
          "text": [
            "[1 0 0 1 0 0 1 0 1 0]\n"
          ],
          "name": "stdout"
        }
      ]
    },
    {
      "cell_type": "code",
      "metadata": {
        "colab": {
          "base_uri": "https://localhost:8080/"
        },
        "id": "x__srzIHZoD3",
        "outputId": "55b90d4b-f6d6-4720-ae09-cc6a6a64b1f6"
      },
      "source": [
        "wordIndex = imdb.get_word_index()\r\n",
        "# print(wordIndex[42])\r\n",
        "print(wordIndex['hello'])\r\n",
        "# Both options done to check if number used as word or word is tokenised as number\r\n",
        "# Ranking of words given based on frequency of occurence"
      ],
      "execution_count": null,
      "outputs": [
        {
          "output_type": "stream",
          "text": [
            "4822\n"
          ],
          "name": "stdout"
        }
      ]
    },
    {
      "cell_type": "code",
      "metadata": {
        "colab": {
          "base_uri": "https://localhost:8080/"
        },
        "id": "iV6t_qIFaA1O",
        "outputId": "2e37670b-f5e3-4a8b-a154-07f808308721"
      },
      "source": [
        "print(ytrain[1])\r\n",
        "print(xtrain[1])    # Gives numbers list as output"
      ],
      "execution_count": null,
      "outputs": [
        {
          "output_type": "stream",
          "text": [
            "0\n",
            "[1, 194, 1153, 194, 8255, 78, 228, 5, 6, 1463, 4369, 5012, 134, 26, 4, 715, 8, 118, 1634, 14, 394, 20, 13, 119, 954, 189, 102, 5, 207, 110, 3103, 21, 14, 69, 188, 8, 30, 23, 7, 4, 249, 126, 93, 4, 114, 9, 2300, 1523, 5, 647, 4, 116, 9, 35, 8163, 4, 229, 9, 340, 1322, 4, 118, 9, 4, 130, 4901, 19, 4, 1002, 5, 89, 29, 952, 46, 37, 4, 455, 9, 45, 43, 38, 1543, 1905, 398, 4, 1649, 26, 6853, 5, 163, 11, 3215, 2, 4, 1153, 9, 194, 775, 7, 8255, 2, 349, 2637, 148, 605, 2, 8003, 15, 123, 125, 68, 2, 6853, 15, 349, 165, 4362, 98, 5, 4, 228, 9, 43, 2, 1157, 15, 299, 120, 5, 120, 174, 11, 220, 175, 136, 50, 9, 4373, 228, 8255, 5, 2, 656, 245, 2350, 5, 4, 9837, 131, 152, 491, 18, 2, 32, 7464, 1212, 14, 9, 6, 371, 78, 22, 625, 64, 1382, 9, 8, 168, 145, 23, 4, 1690, 15, 16, 4, 1355, 5, 28, 6, 52, 154, 462, 33, 89, 78, 285, 16, 145, 95]\n"
          ],
          "name": "stdout"
        }
      ]
    },
    {
      "cell_type": "code",
      "metadata": {
        "colab": {
          "base_uri": "https://localhost:8080/",
          "height": 35
        },
        "id": "WQmgmyJvbbW8",
        "outputId": "32daa923-63e5-4ae3-db24-f2512e8e7855"
      },
      "source": [
        "# This dictionary switches words and encoding from wordIndex dictionary so that we can reverse engineer the output of xtrain\r\n",
        "dictionary = { encoding:word for word,encoding in wordIndex.items() }\r\n",
        "dictionary[42]"
      ],
      "execution_count": null,
      "outputs": [
        {
          "output_type": "execute_result",
          "data": {
            "application/vnd.google.colaboratory.intrinsic+json": {
              "type": "string"
            },
            "text/plain": [
              "\"it's\""
            ]
          },
          "metadata": {
            "tags": []
          },
          "execution_count": 6
        }
      ]
    },
    {
      "cell_type": "code",
      "metadata": {
        "colab": {
          "base_uri": "https://localhost:8080/",
          "height": 103
        },
        "id": "zv96mGUWb15s",
        "outputId": "73b8e3ac-5aa4-487d-8124-aae11446e483"
      },
      "source": [
        "# dictionary[0]   # word * 0 = 0\r\n",
        "#  NLP -> Rules\r\n",
        "# <PAD> -> 0 => Similar to padding in CV\r\n",
        "# <START> -> 1 => Starting of a sentence\r\n",
        "# <UNK> -> Unkown -> anything which we cannot make sense of\r\n",
        "# <UNUSED> -> Unused\r\n",
        "# These 4 have to be added manually to any dictionary before performing any function on it\r\n",
        "\r\n",
        "word_index = { word:(encoding + 3) for word, encoding in wordIndex.items() }\r\n",
        "word_index['<PAD>'] = 0\r\n",
        "word_index['<START>'] = 1\r\n",
        "word_index['<UNK>'] = 2\r\n",
        "word_index['<UNUSED>'] = 3\r\n",
        "\r\n",
        "dictionary = { encoding:word for word,encoding in word_index.items() }\r\n",
        "\r\n",
        "def decoder(review):\r\n",
        "    decoder_review = [dictionary.get(word) for word in review]\r\n",
        "    sentence = ' '.join(decoder_review)\r\n",
        "    return sentence\r\n",
        "\r\n",
        "print(ytrain[2])\r\n",
        "decoder(xtrain[2])\r\n",
        "# We get gibberish because we have to manipulate the data using NLP Rules"
      ],
      "execution_count": null,
      "outputs": [
        {
          "output_type": "stream",
          "text": [
            "0\n"
          ],
          "name": "stdout"
        },
        {
          "output_type": "execute_result",
          "data": {
            "application/vnd.google.colaboratory.intrinsic+json": {
              "type": "string"
            },
            "text/plain": [
              "\"<START> this has to be one of the worst films of the 1990s when my friends i were watching this film being the target audience it was aimed at we just sat watched the first half an hour with our jaws touching the floor at how bad it really was the rest of the time everyone else in the theatre just started talking to each other leaving or generally crying into their popcorn that they actually paid money they had <UNK> working to watch this feeble excuse for a film it must have looked like a great idea on paper but on film it looks like no one in the film has a clue what is going on crap acting crap costumes i can't get across how <UNK> this is to watch save yourself an hour a bit of your life\""
            ]
          },
          "metadata": {
            "tags": []
          },
          "execution_count": 7
        }
      ]
    },
    {
      "cell_type": "code",
      "metadata": {
        "colab": {
          "base_uri": "https://localhost:8080/"
        },
        "id": "AZAMGXU2i9yr",
        "outputId": "db51ad88-aeb4-44de-905a-7a4df4877e61"
      },
      "source": [
        "lengths = []\r\n",
        "for x in range(20):\r\n",
        "  lengths.append(len(xtrain[x]))\r\n",
        "print(lengths)"
      ],
      "execution_count": null,
      "outputs": [
        {
          "output_type": "stream",
          "text": [
            "[218, 189, 141, 550, 147, 43, 123, 562, 233, 130, 450, 99, 117, 238, 109, 129, 163, 752, 212, 177]\n"
          ],
          "name": "stdout"
        }
      ]
    },
    {
      "cell_type": "code",
      "metadata": {
        "id": "NLBCjQJ2c2kC"
      },
      "source": [
        "xtrain_padded = keras.preprocessing.sequence.pad_sequences(xtrain, value = 0,\r\n",
        "                                                           padding='post',\r\n",
        "                                                           truncating='post',\r\n",
        "                                                           maxlen=256)\r\n",
        "\r\n",
        "xtest_padded = keras.preprocessing.sequence.pad_sequences(xtest, value = 0,\r\n",
        "                                                           padding='post',\r\n",
        "                                                           truncating='post',\r\n",
        "                                                           maxlen=256)"
      ],
      "execution_count": null,
      "outputs": []
    },
    {
      "cell_type": "code",
      "metadata": {
        "colab": {
          "base_uri": "https://localhost:8080/",
          "height": 120
        },
        "id": "xWTE6yfUh8aL",
        "outputId": "79ac912b-1c62-4ca3-ba49-1ea58a1aafe5"
      },
      "source": [
        "decoder(xtrain_padded[2])"
      ],
      "execution_count": null,
      "outputs": [
        {
          "output_type": "execute_result",
          "data": {
            "application/vnd.google.colaboratory.intrinsic+json": {
              "type": "string"
            },
            "text/plain": [
              "\"<START> this has to be one of the worst films of the 1990s when my friends i were watching this film being the target audience it was aimed at we just sat watched the first half an hour with our jaws touching the floor at how bad it really was the rest of the time everyone else in the theatre just started talking to each other leaving or generally crying into their popcorn that they actually paid money they had <UNK> working to watch this feeble excuse for a film it must have looked like a great idea on paper but on film it looks like no one in the film has a clue what is going on crap acting crap costumes i can't get across how <UNK> this is to watch save yourself an hour a bit of your life <PAD> <PAD> <PAD> <PAD> <PAD> <PAD> <PAD> <PAD> <PAD> <PAD> <PAD> <PAD> <PAD> <PAD> <PAD> <PAD> <PAD> <PAD> <PAD> <PAD> <PAD> <PAD> <PAD> <PAD> <PAD> <PAD> <PAD> <PAD> <PAD> <PAD> <PAD> <PAD> <PAD> <PAD> <PAD> <PAD> <PAD> <PAD> <PAD> <PAD> <PAD> <PAD> <PAD> <PAD> <PAD> <PAD> <PAD> <PAD> <PAD> <PAD> <PAD> <PAD> <PAD> <PAD> <PAD> <PAD> <PAD> <PAD> <PAD> <PAD> <PAD> <PAD> <PAD> <PAD> <PAD> <PAD> <PAD> <PAD> <PAD> <PAD> <PAD> <PAD> <PAD> <PAD> <PAD> <PAD> <PAD> <PAD> <PAD> <PAD> <PAD> <PAD> <PAD> <PAD> <PAD> <PAD> <PAD> <PAD> <PAD> <PAD> <PAD> <PAD> <PAD> <PAD> <PAD> <PAD> <PAD> <PAD> <PAD> <PAD> <PAD> <PAD> <PAD> <PAD> <PAD> <PAD> <PAD> <PAD> <PAD> <PAD> <PAD> <PAD> <PAD> <PAD> <PAD>\""
            ]
          },
          "metadata": {
            "tags": []
          },
          "execution_count": 10
        }
      ]
    },
    {
      "cell_type": "code",
      "metadata": {
        "id": "8u7SgKqIiHTi",
        "colab": {
          "base_uri": "https://localhost:8080/"
        },
        "outputId": "a103030b-3e66-4464-b504-da7b09336c45"
      },
      "source": [
        "xtrain_padded[2]"
      ],
      "execution_count": null,
      "outputs": [
        {
          "output_type": "execute_result",
          "data": {
            "text/plain": [
              "array([   1,   14,   47,    8,   30,   31,    7,    4,  249,  108,    7,\n",
              "          4, 5974,   54,   61,  369,   13,   71,  149,   14,   22,  112,\n",
              "          4, 2401,  311,   12,   16, 3711,   33,   75,   43, 1829,  296,\n",
              "          4,   86,  320,   35,  534,   19,  263, 4821, 1301,    4, 1873,\n",
              "         33,   89,   78,   12,   66,   16,    4,  360,    7,    4,   58,\n",
              "        316,  334,   11,    4, 1716,   43,  645,  662,    8,  257,   85,\n",
              "       1200,   42, 1228, 2578,   83,   68, 3912,   15,   36,  165, 1539,\n",
              "        278,   36,   69,    2,  780,    8,  106,   14, 6905, 1338,   18,\n",
              "          6,   22,   12,  215,   28,  610,   40,    6,   87,  326,   23,\n",
              "       2300,   21,   23,   22,   12,  272,   40,   57,   31,   11,    4,\n",
              "         22,   47,    6, 2307,   51,    9,  170,   23,  595,  116,  595,\n",
              "       1352,   13,  191,   79,  638,   89,    2,   14,    9,    8,  106,\n",
              "        607,  624,   35,  534,    6,  227,    7,  129,  113,    0,    0,\n",
              "          0,    0,    0,    0,    0,    0,    0,    0,    0,    0,    0,\n",
              "          0,    0,    0,    0,    0,    0,    0,    0,    0,    0,    0,\n",
              "          0,    0,    0,    0,    0,    0,    0,    0,    0,    0,    0,\n",
              "          0,    0,    0,    0,    0,    0,    0,    0,    0,    0,    0,\n",
              "          0,    0,    0,    0,    0,    0,    0,    0,    0,    0,    0,\n",
              "          0,    0,    0,    0,    0,    0,    0,    0,    0,    0,    0,\n",
              "          0,    0,    0,    0,    0,    0,    0,    0,    0,    0,    0,\n",
              "          0,    0,    0,    0,    0,    0,    0,    0,    0,    0,    0,\n",
              "          0,    0,    0,    0,    0,    0,    0,    0,    0,    0,    0,\n",
              "          0,    0,    0,    0,    0,    0,    0,    0,    0,    0,    0,\n",
              "          0,    0,    0], dtype=int32)"
            ]
          },
          "metadata": {
            "tags": []
          },
          "execution_count": 11
        }
      ]
    },
    {
      "cell_type": "code",
      "metadata": {
        "colab": {
          "base_uri": "https://localhost:8080/",
          "height": 205
        },
        "id": "Qdn7CiXZjD6H",
        "outputId": "8c2cfb15-0dd4-470f-af5b-60f1af27a444"
      },
      "source": [
        "decoder(xtrain_padded[7])"
      ],
      "execution_count": null,
      "outputs": [
        {
          "output_type": "execute_result",
          "data": {
            "application/vnd.google.colaboratory.intrinsic+json": {
              "type": "string"
            },
            "text/plain": [
              "\"<START> the <UNK> tells the story of the four hamilton siblings teenager francis <UNK> <UNK> twins <UNK> joseph <UNK> <UNK> <UNK> <UNK> the <UNK> david samuel who is now the surrogate parent in charge the <UNK> move house a lot <UNK> is unsure why is unhappy with the way things are the fact that his brother's sister kidnap <UNK> murder people in the basement doesn't help relax or calm <UNK> nerves either francis <UNK> something just isn't right when he eventually finds out the truth things will never be the same again br br co written co produced directed by mitchell <UNK> phil <UNK> as the butcher brothers who's only other film director's credit so far is the april <UNK> day 2008 remake enough said this was one of the <UNK> to die <UNK> at the 2006 after dark <UNK> or whatever it's called in keeping with pretty much all the other's i've seen i thought the <UNK> was complete total utter crap i found the character's really poor very unlikable the slow moving story failed to capture my imagination or sustain my interest over it's 85 a half minute too long <UNK> minute duration the there's the awful twist at the end which had me laughing out loud there's this really big <UNK> build up to what's inside a <UNK> thing in the <UNK> basement it's eventually revealed to be a little boy with a teddy is that really supposed to scare us is that really supposed to shock us is that really something that\""
            ]
          },
          "metadata": {
            "tags": []
          },
          "execution_count": 12
        }
      ]
    },
    {
      "cell_type": "code",
      "metadata": {
        "id": "YD_mqs0DjH85"
      },
      "source": [
        "hp_dict_size = 10000\r\n",
        "hp_embedded_dims = 16\r\n",
        "hp_maxlen = 256\r\n",
        "hp_batchsize = 128  # constant for all models\r\n",
        "hp_epochs = 25\r\n",
        "hp_val_size = 10000\r\n",
        "\r\n",
        "# Denser model\r\n",
        "hp_d_l3_l4_m1 = 64\r\n",
        "hp_d_l4_l5_m1 = 128\r\n",
        "\r\n",
        "# Shallower model\r\n",
        "hp_d_l3_l4_m2 = 32\r\n",
        "hp_d_l4_l5_m2 = 64"
      ],
      "execution_count": null,
      "outputs": []
    },
    {
      "cell_type": "code",
      "metadata": {
        "id": "X86x-MfUv9UU"
      },
      "source": [
        "# Model 1\r\n",
        "l1_m1 = keras.layers.Embedding(hp_dict_size, hp_embedded_dims)\r\n",
        "l2_m1 = keras.layers.GlobalAveragePooling1D()\r\n",
        "l3_m1 = keras.layers.Dense(hp_d_l3_l4_m1)\r\n",
        "l4_m1 = keras.layers.Dense(hp_d_l4_l5_m1, activation=tf.nn.relu)\r\n",
        "l5_m1 = keras.layers.Dense(1, activation=tf.nn.sigmoid)\r\n",
        "layers_m1 = [l1_m1, l2_m1, l3_m1, l4_m1, l5_m1]\r\n",
        "\r\n",
        "# Model 2\r\n",
        "l1_m2 = keras.layers.Embedding(hp_dict_size, hp_embedded_dims)\r\n",
        "l2_m2 = keras.layers.GlobalAveragePooling1D()\r\n",
        "l3_m2 = keras.layers.Dense(hp_d_l3_l4_m2)\r\n",
        "l4_m2 = keras.layers.Dense(hp_d_l4_l5_m2, activation=tf.nn.relu)\r\n",
        "l5_m2 = keras.layers.Dense(1, activation=tf.nn.sigmoid)\r\n",
        "layers_m2 = [l1_m2, l2_m2, l3_m2, l4_m2, l5_m2]"
      ],
      "execution_count": null,
      "outputs": []
    },
    {
      "cell_type": "code",
      "metadata": {
        "id": "veCLdUxvxbGq"
      },
      "source": [
        "m1 = keras.Sequential(layers_m1)\r\n",
        "m2 = keras.Sequential(layers_m2)"
      ],
      "execution_count": null,
      "outputs": []
    },
    {
      "cell_type": "code",
      "metadata": {
        "id": "lXu7ZuH6xxsp"
      },
      "source": [
        "m1.compile(optimizer='adam', \r\n",
        "           loss='binary_crossentropy',\r\n",
        "           metrics=['acc'])\r\n",
        "\r\n",
        "m2.compile(optimizer='adam',\r\n",
        "           loss='binary_crossentropy',\r\n",
        "           metrics=['acc'])"
      ],
      "execution_count": null,
      "outputs": []
    },
    {
      "cell_type": "code",
      "metadata": {
        "colab": {
          "base_uri": "https://localhost:8080/"
        },
        "id": "TXf4fZhByRzt",
        "outputId": "276b3f49-93a0-4b0b-d63b-b8dbd6ae2df8"
      },
      "source": [
        "m1.summary()"
      ],
      "execution_count": null,
      "outputs": [
        {
          "output_type": "stream",
          "text": [
            "Model: \"sequential_2\"\n",
            "_________________________________________________________________\n",
            "Layer (type)                 Output Shape              Param #   \n",
            "=================================================================\n",
            "embedding_2 (Embedding)      (None, None, 16)          160000    \n",
            "_________________________________________________________________\n",
            "global_average_pooling1d_2 ( (None, 16)                0         \n",
            "_________________________________________________________________\n",
            "dense_6 (Dense)              (None, 64)                1088      \n",
            "_________________________________________________________________\n",
            "dense_7 (Dense)              (None, 128)               8320      \n",
            "_________________________________________________________________\n",
            "dense_8 (Dense)              (None, 1)                 129       \n",
            "=================================================================\n",
            "Total params: 169,537\n",
            "Trainable params: 169,537\n",
            "Non-trainable params: 0\n",
            "_________________________________________________________________\n"
          ],
          "name": "stdout"
        }
      ]
    },
    {
      "cell_type": "code",
      "metadata": {
        "colab": {
          "base_uri": "https://localhost:8080/"
        },
        "id": "YKMEuWbvyUiB",
        "outputId": "59c60da5-2d1c-46e0-f042-a7f907c72eeb"
      },
      "source": [
        "m2.summary()"
      ],
      "execution_count": null,
      "outputs": [
        {
          "output_type": "stream",
          "text": [
            "Model: \"sequential_3\"\n",
            "_________________________________________________________________\n",
            "Layer (type)                 Output Shape              Param #   \n",
            "=================================================================\n",
            "embedding_3 (Embedding)      (None, None, 16)          160000    \n",
            "_________________________________________________________________\n",
            "global_average_pooling1d_3 ( (None, 16)                0         \n",
            "_________________________________________________________________\n",
            "dense_9 (Dense)              (None, 32)                544       \n",
            "_________________________________________________________________\n",
            "dense_10 (Dense)             (None, 64)                2112      \n",
            "_________________________________________________________________\n",
            "dense_11 (Dense)             (None, 1)                 65        \n",
            "=================================================================\n",
            "Total params: 162,721\n",
            "Trainable params: 162,721\n",
            "Non-trainable params: 0\n",
            "_________________________________________________________________\n"
          ],
          "name": "stdout"
        }
      ]
    },
    {
      "cell_type": "code",
      "metadata": {
        "id": "hcM6EMSo2Lnr"
      },
      "source": [
        "xval = xtest_padded[:hp_val_size]\r\n",
        "yval = ytest[:hp_val_size]\r\n",
        "ytest_red = ytest[hp_val_size:]\r\n",
        "xtest_red = xtest_padded[hp_val_size:]"
      ],
      "execution_count": null,
      "outputs": []
    },
    {
      "cell_type": "code",
      "metadata": {
        "colab": {
          "base_uri": "https://localhost:8080/"
        },
        "id": "gR9YMyig0XGk",
        "outputId": "4e1ce020-1a6d-461b-9d10-11a972311096"
      },
      "source": [
        "import time\r\n",
        "start_time = time.time()\r\n",
        "\r\n",
        "history = m1.fit(xtrain_padded, ytrain, epochs = hp_epochs,\r\n",
        "                 batch_size=hp_batchsize, \r\n",
        "                 validation_data=(xval,yval))\r\n",
        "\r\n",
        "end_time = time.time()\r\n",
        "time_taken = end_time - start_time\r\n",
        "print(time_taken)"
      ],
      "execution_count": 34,
      "outputs": [
        {
          "output_type": "stream",
          "text": [
            "Train on 25000 samples, validate on 10000 samples\n",
            "Epoch 1/25\n",
            "25000/25000 [==============================] - 2s 62us/sample - loss: 0.0106 - acc: 0.9969 - val_loss: 1.6299 - val_acc: 0.8163\n",
            "Epoch 2/25\n",
            "25000/25000 [==============================] - 1s 59us/sample - loss: 0.0087 - acc: 0.9973 - val_loss: 1.7297 - val_acc: 0.8130\n",
            "Epoch 3/25\n",
            "25000/25000 [==============================] - 2s 61us/sample - loss: 0.0077 - acc: 0.9976 - val_loss: 1.8448 - val_acc: 0.8119\n",
            "Epoch 4/25\n",
            "25000/25000 [==============================] - 2s 60us/sample - loss: 0.0117 - acc: 0.9960 - val_loss: 1.9417 - val_acc: 0.8139\n",
            "Epoch 5/25\n",
            "25000/25000 [==============================] - 1s 60us/sample - loss: 0.0217 - acc: 0.9917 - val_loss: 1.8515 - val_acc: 0.8144\n",
            "Epoch 6/25\n",
            "25000/25000 [==============================] - 1s 60us/sample - loss: 0.0246 - acc: 0.9914 - val_loss: 1.7232 - val_acc: 0.8156\n",
            "Epoch 7/25\n",
            "25000/25000 [==============================] - 1s 60us/sample - loss: 0.0139 - acc: 0.9951 - val_loss: 1.7830 - val_acc: 0.8119\n",
            "Epoch 8/25\n",
            "25000/25000 [==============================] - 2s 60us/sample - loss: 0.0081 - acc: 0.9973 - val_loss: 1.9015 - val_acc: 0.8126\n",
            "Epoch 9/25\n",
            "25000/25000 [==============================] - 2s 60us/sample - loss: 0.0039 - acc: 0.9988 - val_loss: 2.0245 - val_acc: 0.8123\n",
            "Epoch 10/25\n",
            "25000/25000 [==============================] - 2s 60us/sample - loss: 0.0017 - acc: 0.9996 - val_loss: 2.1191 - val_acc: 0.8123\n",
            "Epoch 11/25\n",
            "25000/25000 [==============================] - 2s 60us/sample - loss: 6.9463e-04 - acc: 1.0000 - val_loss: 2.2267 - val_acc: 0.8130\n",
            "Epoch 12/25\n",
            "25000/25000 [==============================] - 1s 60us/sample - loss: 5.0492e-04 - acc: 1.0000 - val_loss: 2.2670 - val_acc: 0.8126\n",
            "Epoch 13/25\n",
            "25000/25000 [==============================] - 2s 61us/sample - loss: 2.6887e-04 - acc: 1.0000 - val_loss: 2.3223 - val_acc: 0.8126\n",
            "Epoch 14/25\n",
            "25000/25000 [==============================] - 2s 60us/sample - loss: 3.9669e-04 - acc: 1.0000 - val_loss: 2.3851 - val_acc: 0.8120\n",
            "Epoch 15/25\n",
            "25000/25000 [==============================] - 2s 61us/sample - loss: 1.5647e-04 - acc: 1.0000 - val_loss: 2.4302 - val_acc: 0.8119\n",
            "Epoch 16/25\n",
            "25000/25000 [==============================] - 1s 60us/sample - loss: 1.3578e-04 - acc: 1.0000 - val_loss: 2.4794 - val_acc: 0.8122\n",
            "Epoch 17/25\n",
            "25000/25000 [==============================] - 2s 60us/sample - loss: 1.0665e-04 - acc: 1.0000 - val_loss: 2.5176 - val_acc: 0.8122\n",
            "Epoch 18/25\n",
            "25000/25000 [==============================] - 2s 60us/sample - loss: 9.1135e-05 - acc: 1.0000 - val_loss: 2.5516 - val_acc: 0.8123\n",
            "Epoch 19/25\n",
            "25000/25000 [==============================] - 2s 61us/sample - loss: 8.2036e-05 - acc: 1.0000 - val_loss: 2.5930 - val_acc: 0.8124\n",
            "Epoch 20/25\n",
            "25000/25000 [==============================] - 2s 60us/sample - loss: 7.1810e-05 - acc: 1.0000 - val_loss: 2.6319 - val_acc: 0.8121\n",
            "Epoch 21/25\n",
            "25000/25000 [==============================] - 1s 60us/sample - loss: 5.8803e-05 - acc: 1.0000 - val_loss: 2.6674 - val_acc: 0.8119\n",
            "Epoch 22/25\n",
            "25000/25000 [==============================] - 2s 61us/sample - loss: 5.2163e-05 - acc: 1.0000 - val_loss: 2.7037 - val_acc: 0.8123\n",
            "Epoch 23/25\n",
            "25000/25000 [==============================] - 1s 60us/sample - loss: 4.6983e-05 - acc: 1.0000 - val_loss: 2.7403 - val_acc: 0.8120\n",
            "Epoch 24/25\n",
            "25000/25000 [==============================] - 2s 61us/sample - loss: 3.9548e-05 - acc: 1.0000 - val_loss: 2.7769 - val_acc: 0.8121\n",
            "Epoch 25/25\n",
            "25000/25000 [==============================] - 1s 60us/sample - loss: 3.4772e-05 - acc: 1.0000 - val_loss: 2.8073 - val_acc: 0.8123\n",
            "37.74674654006958\n"
          ],
          "name": "stdout"
        }
      ]
    },
    {
      "cell_type": "code",
      "metadata": {
        "id": "bypCxpSY16xI"
      },
      "source": [
        "import matplotlib.pyplot as plt\r\n",
        "stats = history.history\r\n",
        "val_acc = stats['val_acc']\r\n",
        "acc = stats['acc']\r\n",
        "val_loss = stats['val_loss']\r\n",
        "loss = stats['loss']\r\n",
        "epochs = range(1,hp_epochs+1)"
      ],
      "execution_count": 35,
      "outputs": []
    },
    {
      "cell_type": "code",
      "metadata": {
        "colab": {
          "base_uri": "https://localhost:8080/",
          "height": 265
        },
        "id": "ByTiTMz24bjd",
        "outputId": "7f659e99-8b01-4cda-89ad-d71340b63fed"
      },
      "source": [
        "plt.figure()\r\n",
        "plt.plot(epochs, loss, 'bo', label='loss')\r\n",
        "plt.plot(epochs, val_loss, 'rx', label='val_loss')\r\n",
        "plt.legend()\r\n",
        "plt.show()"
      ],
      "execution_count": 36,
      "outputs": [
        {
          "output_type": "display_data",
          "data": {
            "image/png": "[encoded data removed]",
            "text/plain": [
              "<Figure size 432x288 with 1 Axes>"
            ]
          },
          "metadata": {
            "tags": [],
            "needs_background": "light"
          }
        }
      ]
    },
    {
      "cell_type": "code",
      "metadata": {
        "colab": {
          "base_uri": "https://localhost:8080/",
          "height": 265
        },
        "id": "wE5XGRit4doX",
        "outputId": "d34fcf19-d938-4229-c990-99b48993ecd0"
      },
      "source": [
        "plt.figure()\r\n",
        "plt.plot(epochs, acc, 'bo', label='acc')\r\n",
        "plt.plot(epochs, val_acc, 'rx', label='val_acc')\r\n",
        "plt.legend()\r\n",
        "plt.show()"
      ],
      "execution_count": 37,
      "outputs": [
        {
          "output_type": "display_data",
          "data": {
            "image/png": "[encoded data removed]",
            "text/plain": [
              "<Figure size 432x288 with 1 Axes>"
            ]
          },
          "metadata": {
            "tags": [],
            "needs_background": "light"
          }
        }
      ]
    },
    {
      "cell_type": "code",
      "metadata": {
        "id": "pyQ6jg0atJ6s"
      },
      "source": [
        "m1.save('myfirstmodel.h5') # Save full model"
      ],
      "execution_count": 38,
      "outputs": []
    },
    {
      "cell_type": "code",
      "metadata": {
        "colab": {
          "base_uri": "https://localhost:8080/"
        },
        "id": "pCcN51RNtbi0",
        "outputId": "159f33d5-fc71-45d4-ef35-bdaedb788f35"
      },
      "source": [
        "# Saving only shape and weights\r\n",
        "shape_m1 = m1.to_json()\r\n",
        "with open('m1.json', 'w') as myFile:\r\n",
        "    myFile.write(shape_m1)\r\n",
        "\r\n",
        "m1.save_weights('m1weights.h5')\r\n",
        "!ls"
      ],
      "execution_count": 39,
      "outputs": [
        {
          "output_type": "stream",
          "text": [
            "m1.json       m2.json\t    myfirstmodel.h5   sample_data\n",
            "m1weights.h5  m2weights.h5  mysecondmodel.h5\n"
          ],
          "name": "stdout"
        }
      ]
    },
    {
      "cell_type": "code",
      "metadata": {
        "colab": {
          "base_uri": "https://localhost:8080/"
        },
        "id": "no6CTtrTuQ1I",
        "outputId": "eb6df845-ef6e-457d-c89e-44dddea30c7d"
      },
      "source": [
        "!cat m1.json"
      ],
      "execution_count": 40,
      "outputs": [
        {
          "output_type": "stream",
          "text": [
            "{\"class_name\": \"Sequential\", \"config\": {\"name\": \"sequential\", \"layers\": [{\"class_name\": \"Embedding\", \"config\": {\"name\": \"embedding\", \"trainable\": true, \"batch_input_shape\": [null, null], \"dtype\": \"float32\", \"input_dim\": 10000, \"output_dim\": 16, \"embeddings_initializer\": {\"class_name\": \"RandomUniform\", \"config\": {\"minval\": -0.05, \"maxval\": 0.05, \"seed\": null, \"dtype\": \"float32\"}}, \"embeddings_regularizer\": null, \"activity_regularizer\": null, \"embeddings_constraint\": null, \"mask_zero\": false, \"input_length\": null}}, {\"class_name\": \"GlobalAveragePooling1D\", \"config\": {\"name\": \"global_average_pooling1d\", \"trainable\": true, \"dtype\": \"float32\", \"data_format\": \"channels_last\"}}, {\"class_name\": \"Dense\", \"config\": {\"name\": \"dense\", \"trainable\": true, \"dtype\": \"float32\", \"units\": 64, \"activation\": \"linear\", \"use_bias\": true, \"kernel_initializer\": {\"class_name\": \"GlorotUniform\", \"config\": {\"seed\": null, \"dtype\": \"float32\"}}, \"bias_initializer\": {\"class_name\": \"Zeros\", \"config\": {\"dtype\": \"float32\"}}, \"kernel_regularizer\": null, \"bias_regularizer\": null, \"activity_regularizer\": null, \"kernel_constraint\": null, \"bias_constraint\": null}}, {\"class_name\": \"Dense\", \"config\": {\"name\": \"dense_1\", \"trainable\": true, \"dtype\": \"float32\", \"units\": 128, \"activation\": \"relu\", \"use_bias\": true, \"kernel_initializer\": {\"class_name\": \"GlorotUniform\", \"config\": {\"seed\": null, \"dtype\": \"float32\"}}, \"bias_initializer\": {\"class_name\": \"Zeros\", \"config\": {\"dtype\": \"float32\"}}, \"kernel_regularizer\": null, \"bias_regularizer\": null, \"activity_regularizer\": null, \"kernel_constraint\": null, \"bias_constraint\": null}}, {\"class_name\": \"Dense\", \"config\": {\"name\": \"dense_2\", \"trainable\": true, \"dtype\": \"float32\", \"units\": 1, \"activation\": \"sigmoid\", \"use_bias\": true, \"kernel_initializer\": {\"class_name\": \"GlorotUniform\", \"config\": {\"seed\": null, \"dtype\": \"float32\"}}, \"bias_initializer\": {\"class_name\": \"Zeros\", \"config\": {\"dtype\": \"float32\"}}, \"kernel_regularizer\": null, \"bias_regularizer\": null, \"activity_regularizer\": null, \"kernel_constraint\": null, \"bias_constraint\": null}}]}, \"keras_version\": \"2.2.4-tf\", \"backend\": \"tensorflow\"}"
          ],
          "name": "stdout"
        }
      ]
    },
    {
      "cell_type": "code",
      "metadata": {
        "colab": {
          "base_uri": "https://localhost:8080/"
        },
        "id": "dx8BlKSouXFf",
        "outputId": "63239454-5973-4c1a-d6ef-08b674bfea2e"
      },
      "source": [
        "start_time_2= time.time()\r\n",
        "history = m2.fit(xtrain_padded, ytrain, epochs = hp_epochs,\r\n",
        "                 batch_size=hp_batchsize, \r\n",
        "                 validation_data=(xval,yval))\r\n",
        "\r\n",
        "end_time_2 = time.time()\r\n",
        "time_taken_2 = end_time_2 - start_time_2\r\n",
        "print(time_taken_2)"
      ],
      "execution_count": 41,
      "outputs": [
        {
          "output_type": "stream",
          "text": [
            "Train on 25000 samples, validate on 10000 samples\n",
            "Epoch 1/25\n",
            "25000/25000 [==============================] - 1s 60us/sample - loss: 1.2891e-05 - acc: 1.0000 - val_loss: 3.0600 - val_acc: 0.8145\n",
            "Epoch 2/25\n",
            "25000/25000 [==============================] - 2s 60us/sample - loss: 1.0607e-05 - acc: 1.0000 - val_loss: 3.0852 - val_acc: 0.8136\n",
            "Epoch 3/25\n",
            "25000/25000 [==============================] - 1s 59us/sample - loss: 9.3412e-06 - acc: 1.0000 - val_loss: 3.1258 - val_acc: 0.8144\n",
            "Epoch 4/25\n",
            "25000/25000 [==============================] - 1s 58us/sample - loss: 8.6678e-06 - acc: 1.0000 - val_loss: 3.1577 - val_acc: 0.8139\n",
            "Epoch 5/25\n",
            "25000/25000 [==============================] - 1s 59us/sample - loss: 7.8042e-06 - acc: 1.0000 - val_loss: 3.1956 - val_acc: 0.8146\n",
            "Epoch 6/25\n",
            "25000/25000 [==============================] - 1s 59us/sample - loss: 6.6853e-06 - acc: 1.0000 - val_loss: 3.2019 - val_acc: 0.8140\n",
            "Epoch 7/25\n",
            "25000/25000 [==============================] - 1s 59us/sample - loss: 6.0171e-06 - acc: 1.0000 - val_loss: 3.2454 - val_acc: 0.8142\n",
            "Epoch 8/25\n",
            "25000/25000 [==============================] - 1s 59us/sample - loss: 5.5740e-06 - acc: 1.0000 - val_loss: 3.2746 - val_acc: 0.8139\n",
            "Epoch 9/25\n",
            "25000/25000 [==============================] - 1s 59us/sample - loss: 4.7878e-06 - acc: 1.0000 - val_loss: 3.3090 - val_acc: 0.8138\n",
            "Epoch 10/25\n",
            "25000/25000 [==============================] - 1s 60us/sample - loss: 4.5787e-06 - acc: 1.0000 - val_loss: 3.3452 - val_acc: 0.8149\n",
            "Epoch 11/25\n",
            "25000/25000 [==============================] - 1s 60us/sample - loss: 4.3939e-06 - acc: 1.0000 - val_loss: 3.3767 - val_acc: 0.8143\n",
            "Epoch 12/25\n",
            "25000/25000 [==============================] - 1s 59us/sample - loss: 3.4839e-06 - acc: 1.0000 - val_loss: 3.3976 - val_acc: 0.8138\n",
            "Epoch 13/25\n",
            "25000/25000 [==============================] - 1s 59us/sample - loss: 3.7608e-06 - acc: 1.0000 - val_loss: 3.4264 - val_acc: 0.8145\n",
            "Epoch 14/25\n",
            "25000/25000 [==============================] - 2s 60us/sample - loss: 3.1311e-06 - acc: 1.0000 - val_loss: 3.4759 - val_acc: 0.8146\n",
            "Epoch 15/25\n",
            "25000/25000 [==============================] - 1s 59us/sample - loss: 2.3926e-06 - acc: 1.0000 - val_loss: 3.5053 - val_acc: 0.8153\n",
            "Epoch 16/25\n",
            "25000/25000 [==============================] - 1s 58us/sample - loss: 2.1880e-06 - acc: 1.0000 - val_loss: 3.5313 - val_acc: 0.8146\n",
            "Epoch 17/25\n",
            "25000/25000 [==============================] - 1s 59us/sample - loss: 1.9378e-06 - acc: 1.0000 - val_loss: 3.5578 - val_acc: 0.8147\n",
            "Epoch 18/25\n",
            "25000/25000 [==============================] - 1s 58us/sample - loss: 1.7407e-06 - acc: 1.0000 - val_loss: 3.5884 - val_acc: 0.8149\n",
            "Epoch 19/25\n",
            "25000/25000 [==============================] - 1s 59us/sample - loss: 1.6772e-06 - acc: 1.0000 - val_loss: 3.6181 - val_acc: 0.8147\n",
            "Epoch 20/25\n",
            "25000/25000 [==============================] - 1s 58us/sample - loss: 1.3808e-06 - acc: 1.0000 - val_loss: 3.6519 - val_acc: 0.8146\n",
            "Epoch 21/25\n",
            "25000/25000 [==============================] - 1s 59us/sample - loss: 1.2433e-06 - acc: 1.0000 - val_loss: 3.6858 - val_acc: 0.8152\n",
            "Epoch 22/25\n",
            "25000/25000 [==============================] - 1s 58us/sample - loss: 1.1535e-06 - acc: 1.0000 - val_loss: 3.7134 - val_acc: 0.8149\n",
            "Epoch 23/25\n",
            "25000/25000 [==============================] - 1s 60us/sample - loss: 1.0193e-06 - acc: 1.0000 - val_loss: 3.7454 - val_acc: 0.8145\n",
            "Epoch 24/25\n",
            "25000/25000 [==============================] - 1s 59us/sample - loss: 8.9768e-07 - acc: 1.0000 - val_loss: 3.7650 - val_acc: 0.8150\n",
            "Epoch 25/25\n",
            "25000/25000 [==============================] - 1s 58us/sample - loss: 8.0560e-07 - acc: 1.0000 - val_loss: 3.7954 - val_acc: 0.8148\n",
            "36.93395256996155\n"
          ],
          "name": "stdout"
        }
      ]
    },
    {
      "cell_type": "code",
      "metadata": {
        "id": "A9VszlaZv4hv"
      },
      "source": [
        "stats = history.history\r\n",
        "val_acc = stats['val_acc']\r\n",
        "acc = stats['acc']\r\n",
        "val_loss = stats['val_loss']\r\n",
        "loss = stats['loss']\r\n",
        "epochs = range(1,hp_epochs+1)"
      ],
      "execution_count": 46,
      "outputs": []
    },
    {
      "cell_type": "code",
      "metadata": {
        "colab": {
          "base_uri": "https://localhost:8080/",
          "height": 265
        },
        "id": "4KRR2ui8v7vX",
        "outputId": "f8b6cc47-f7dd-4824-ed7d-9d92d4e89eb1"
      },
      "source": [
        "plt.figure()\r\n",
        "plt.plot(epochs, loss, 'bo', label='loss')\r\n",
        "plt.plot(epochs, val_loss, 'rx', label='val_loss')\r\n",
        "plt.legend()\r\n",
        "plt.show()"
      ],
      "execution_count": 47,
      "outputs": [
        {
          "output_type": "display_data",
          "data": {
            "image/png": "[encoded data removed]",
            "text/plain": [
              "<Figure size 432x288 with 1 Axes>"
            ]
          },
          "metadata": {
            "tags": [],
            "needs_background": "light"
          }
        }
      ]
    },
    {
      "cell_type": "code",
      "metadata": {
        "colab": {
          "base_uri": "https://localhost:8080/",
          "height": 265
        },
        "id": "HXwjA3DMv9Ch",
        "outputId": "8f0057c3-333e-4223-e337-d2076fd63503"
      },
      "source": [
        "plt.figure()\r\n",
        "plt.plot(epochs, acc, 'bo', label='acc')\r\n",
        "plt.plot(epochs, val_acc, 'rx', label='val_acc')\r\n",
        "plt.legend()\r\n",
        "plt.show()"
      ],
      "execution_count": 48,
      "outputs": [
        {
          "output_type": "display_data",
          "data": {
            "image/png": "[encoded data removed]",
            "text/plain": [
              "<Figure size 432x288 with 1 Axes>"
            ]
          },
          "metadata": {
            "tags": [],
            "needs_background": "light"
          }
        }
      ]
    },
    {
      "cell_type": "code",
      "metadata": {
        "id": "DQvM8RSuupSd"
      },
      "source": [
        "m2.save('mysecondmodel.h5') # Save full model"
      ],
      "execution_count": 42,
      "outputs": []
    },
    {
      "cell_type": "code",
      "metadata": {
        "id": "dRsp2g3Zu-0d"
      },
      "source": [
        "shape_m2 = m1.to_json()\r\n",
        "with open('m2.json', 'w') as myFile:\r\n",
        "    myFile.write(shape_m2)\r\n",
        "\r\n",
        "m2.save_weights('m2weights.h5')"
      ],
      "execution_count": 43,
      "outputs": []
    },
    {
      "cell_type": "code",
      "metadata": {
        "colab": {
          "base_uri": "https://localhost:8080/"
        },
        "id": "UoWUrRv2vCw-",
        "outputId": "2afa24d2-ff15-40b7-cafb-f309f6ef5704"
      },
      "source": [
        "from tensorflow.keras.models import model_from_json\r\n",
        "newm_shape = open('m1.json','r')\r\n",
        "loaded_json = newm_shape.read()\r\n",
        "newModel = model_from_json(loaded_json)"
      ],
      "execution_count": 44,
      "outputs": [
        {
          "output_type": "stream",
          "text": [
            "WARNING:tensorflow:From /tensorflow-1.15.2/python3.6/tensorflow_core/python/ops/init_ops.py:97: calling GlorotUniform.__init__ (from tensorflow.python.ops.init_ops) with dtype is deprecated and will be removed in a future version.\n",
            "Instructions for updating:\n",
            "Call initializer instance with the dtype argument instead of passing it to the constructor\n",
            "WARNING:tensorflow:From /tensorflow-1.15.2/python3.6/tensorflow_core/python/ops/init_ops.py:97: calling Zeros.__init__ (from tensorflow.python.ops.init_ops) with dtype is deprecated and will be removed in a future version.\n",
            "Instructions for updating:\n",
            "Call initializer instance with the dtype argument instead of passing it to the constructor\n"
          ],
          "name": "stdout"
        }
      ]
    },
    {
      "cell_type": "code",
      "metadata": {
        "colab": {
          "base_uri": "https://localhost:8080/"
        },
        "id": "Sk9HKqfyvxuy",
        "outputId": "5bc61c14-dc8b-49b7-d234-1142fcbb5f3b"
      },
      "source": [
        "newModel.summary()"
      ],
      "execution_count": 45,
      "outputs": [
        {
          "output_type": "stream",
          "text": [
            "Model: \"sequential\"\n",
            "_________________________________________________________________\n",
            "Layer (type)                 Output Shape              Param #   \n",
            "=================================================================\n",
            "embedding (Embedding)        (None, None, 16)          160000    \n",
            "_________________________________________________________________\n",
            "global_average_pooling1d (Gl (None, 16)                0         \n",
            "_________________________________________________________________\n",
            "dense (Dense)                (None, 64)                1088      \n",
            "_________________________________________________________________\n",
            "dense_1 (Dense)              (None, 128)               8320      \n",
            "_________________________________________________________________\n",
            "dense_2 (Dense)              (None, 1)                 129       \n",
            "=================================================================\n",
            "Total params: 169,537\n",
            "Trainable params: 169,537\n",
            "Non-trainable params: 0\n",
            "_________________________________________________________________\n"
          ],
          "name": "stdout"
        }
      ]
    },
    {
      "cell_type": "code",
      "metadata": {
        "id": "kbqC7ERfvz4Q"
      },
      "source": [
        ""
      ],
      "execution_count": null,
      "outputs": []
    }
  ]
}