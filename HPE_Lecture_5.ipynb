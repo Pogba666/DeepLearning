{
  "nbformat": 4,
  "nbformat_minor": 0,
  "metadata": {
    "colab": {
      "name": "HPE_Lecture_5.ipynb",
      "provenance": [],
      "collapsed_sections": [],
      "authorship_tag": "ABX9TyOyFd6kud9a/LUV0tXbiua7",
      "include_colab_link": true
    },
    "kernelspec": {
      "name": "python3",
      "display_name": "Python 3"
    }
  },
  "cells": [
    {
      "cell_type": "markdown",
      "metadata": {
        "id": "view-in-github",
        "colab_type": "text"
      },
      "source": [
        "<a href=\"https://colab.research.google.com/github/Pogba666/DeepLearning/blob/main/HPE_Lecture_5.ipynb\" target=\"_parent\"><img src=\"https://colab.research.google.com/assets/colab-badge.svg\" alt=\"Open In Colab\"/></a>"
      ]
    },
    {
      "cell_type": "code",
      "metadata": {
        "colab": {
          "base_uri": "https://localhost:8080/"
        },
        "id": "-NdkGVz1qHgb",
        "outputId": "288ab183-5cc6-4674-afa9-78c83ccaf3f1"
      },
      "source": [
        "% tensorflow_version 1.x\r\n",
        "import tensorflow as tf\r\n",
        "import numpy as np\r\n",
        "print(tf.__version__)"
      ],
      "execution_count": 1,
      "outputs": [
        {
          "output_type": "stream",
          "text": [
            "TensorFlow 1.x selected.\n",
            "1.15.2\n"
          ],
          "name": "stdout"
        }
      ]
    },
    {
      "cell_type": "code",
      "metadata": {
        "id": "MO0kphZGwubJ"
      },
      "source": [
        "temp = [ 0., 0., 1., 0., 0., 2., 0., 0., 1., 1.]\r\n",
        "values = tf.reshape(temp, [1,1,2,5])"
      ],
      "execution_count": 2,
      "outputs": []
    },
    {
      "cell_type": "code",
      "metadata": {
        "colab": {
          "base_uri": "https://localhost:8080/"
        },
        "id": "s9qeunGgyFFg",
        "outputId": "30141de6-fc28-47c5-976f-81c948d3aeff"
      },
      "source": [
        "values\r\n",
        "# Lazy Evaluation\r\n",
        "# Only if TF session is started, nothing will be displayed"
      ],
      "execution_count": 3,
      "outputs": [
        {
          "output_type": "execute_result",
          "data": {
            "text/plain": [
              "<tf.Tensor 'Reshape:0' shape=(1, 1, 2, 5) dtype=float32>"
            ]
          },
          "metadata": {
            "tags": []
          },
          "execution_count": 3
        }
      ]
    },
    {
      "cell_type": "code",
      "metadata": {
        "colab": {
          "base_uri": "https://localhost:8080/"
        },
        "id": "ULiI-aF2yHoJ",
        "outputId": "2ad862ae-61bc-44b1-cac0-b842e27a1a23"
      },
      "source": [
        "session = tf.Session()\r\n",
        "print('original')\r\n",
        "print(temp)\r\n",
        "print('*******')\r\n",
        "print('reshaped')\r\n",
        "print(session.run(values))\r\n",
        "session.close()"
      ],
      "execution_count": 6,
      "outputs": [
        {
          "output_type": "stream",
          "text": [
            "original\n",
            "[0.0, 0.0, 1.0, 0.0, 0.0, 2.0, 0.0, 0.0, 1.0, 1.0]\n",
            "*******\n",
            "reshaped\n",
            "[[[[0. 0. 1. 0. 0.]\n",
            "   [2. 0. 0. 1. 1.]]]]\n"
          ],
          "name": "stdout"
        }
      ]
    },
    {
      "cell_type": "code",
      "metadata": {
        "id": "8C9CLrQpzU7O"
      },
      "source": [
        ""
      ],
      "execution_count": null,
      "outputs": []
    }
  ]
}