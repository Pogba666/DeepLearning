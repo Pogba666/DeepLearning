{
  "nbformat": 4,
  "nbformat_minor": 0,
  "metadata": {
    "colab": {
      "name": "HPE_Lecture_7.ipynb",
      "provenance": [],
      "collapsed_sections": [],
      "authorship_tag": "ABX9TyOCbuFZxYH9XY2eAESWqnR3",
      "include_colab_link": true
    },
    "kernelspec": {
      "name": "python3",
      "display_name": "Python 3"
    }
  },
  "cells": [
    {
      "cell_type": "markdown",
      "metadata": {
        "id": "view-in-github",
        "colab_type": "text"
      },
      "source": [
        "<a href=\"https://colab.research.google.com/github/Pogba666/DeepLearning/blob/main/HPE_Lecture_7.ipynb\" target=\"_parent\"><img src=\"https://colab.research.google.com/assets/colab-badge.svg\" alt=\"Open In Colab\"/></a>"
      ]
    },
    {
      "cell_type": "code",
      "metadata": {
        "id": "iSWfdmBctRGU"
      },
      "source": [
        "import requests\r\n",
        "import matplotlib.pyplot as plt\r\n",
        "from PIL import Image\r\n",
        "from io import BytesIO\r\n",
        "\r\n",
        "subscription_key = \"d89f21b980e2419389b23c09ae6c58e6\"\r\n",
        "search_url = \"https://api.bing.microsoft.com/v7.0/images/search\"\r\n",
        "search_term = \"female adult\""
      ],
      "execution_count": null,
      "outputs": []
    },
    {
      "cell_type": "code",
      "metadata": {
        "id": "Zx1QGnrZyr7c"
      },
      "source": [
        "headers = {\"Ocp-Apim-Subscription-Key\" : subscription_key}\r\n",
        "params  = {\"q\": search_term, \"license\": \"public\", \"imageType\": \"photo\"}"
      ],
      "execution_count": null,
      "outputs": []
    },
    {
      "cell_type": "code",
      "metadata": {
        "id": "kCb_XYQ6zDMh"
      },
      "source": [
        "response = requests.get(search_url, headers=headers, params=params)\r\n",
        "response.raise_for_status()"
      ],
      "execution_count": null,
      "outputs": []
    },
    {
      "cell_type": "code",
      "metadata": {
        "colab": {
          "base_uri": "https://localhost:8080/"
        },
        "id": "v0j395LhzDKK",
        "outputId": "924e5590-fe8b-40bc-b65b-8da0000a30f4"
      },
      "source": [
        "searchResults = response.json()\r\n",
        "searchResults['currentOffset']\r\n",
        "len(searchResults)"
      ],
      "execution_count": null,
      "outputs": [
        {
          "output_type": "execute_result",
          "data": {
            "text/plain": [
              "12"
            ]
          },
          "metadata": {
            "tags": []
          },
          "execution_count": 36
        }
      ]
    },
    {
      "cell_type": "code",
      "metadata": {
        "id": "33qbi_lZzDHc"
      },
      "source": [
        "thumbs = [ img for img in searchResults[\"value\"][:10] ]"
      ],
      "execution_count": null,
      "outputs": []
    },
    {
      "cell_type": "code",
      "metadata": {
        "colab": {
          "base_uri": "https://localhost:8080/"
        },
        "id": "LERjf7OGzDE3",
        "outputId": "6da75c66-e6a5-4de4-d4fb-5dff8c25fa12"
      },
      "source": [
        "len(thumbs)"
      ],
      "execution_count": null,
      "outputs": [
        {
          "output_type": "execute_result",
          "data": {
            "text/plain": [
              "10"
            ]
          },
          "metadata": {
            "tags": []
          },
          "execution_count": 35
        }
      ]
    },
    {
      "cell_type": "code",
      "metadata": {
        "colab": {
          "base_uri": "https://localhost:8080/"
        },
        "id": "n3sEVhj-zDB4",
        "outputId": "94142166-27e5-455b-8236-ef2a07403e76"
      },
      "source": [
        "thumbs = [ img['thumbnailUrl'] for img in searchResults[\"value\"][:10] ]\r\n",
        "thumbs"
      ],
      "execution_count": null,
      "outputs": [
        {
          "output_type": "execute_result",
          "data": {
            "text/plain": [
              "['https://tse4.mm.bing.net/th?id=OIP.IuRHmPprhuq2sFZbqvwLwwHaJ4&pid=Api',\n",
              " 'https://tse4.mm.bing.net/th?id=OIP.yhVVCyrKb8JSpkkMjbOeCwHaLJ&pid=Api',\n",
              " 'https://tse2.mm.bing.net/th?id=OIP.y-wcErcZt3mGESCpy126oAHaLH&pid=Api',\n",
              " 'https://tse1.mm.bing.net/th?id=OIP.hn7rJQ7AnGpri5ZIxji82QDLEy&pid=Api',\n",
              " 'https://tse2.mm.bing.net/th?id=OIP.RnmNWRuR9Oj3At3lEkXaXQHaLH&pid=Api',\n",
              " 'https://tse1.mm.bing.net/th?id=OIP.5fdptj-egqi23ewRJWzpxAHaLd&pid=Api',\n",
              " 'https://tse2.mm.bing.net/th?id=OIP.K8WZ_KebJlgAsyQ4DtvUtAHaLZ&pid=Api',\n",
              " 'https://tse4.mm.bing.net/th?id=OIP.AP-R0WXjirenxxHEx6KZrQHaJ4&pid=Api',\n",
              " 'https://tse3.mm.bing.net/th?id=OIP.1xyTxKWOkaUMUUEbyypK-QHaLH&pid=Api',\n",
              " 'https://tse1.mm.bing.net/th?id=OIP.75GNOACwtHbFtkAW2zh5qAHaLH&pid=Api']"
            ]
          },
          "metadata": {
            "tags": []
          },
          "execution_count": 31
        }
      ]
    },
    {
      "cell_type": "code",
      "metadata": {
        "id": "x9ksFMBKzC_C"
      },
      "source": [
        "# Saving into Local directory\r\n",
        "\r\n",
        "all_images = []\r\n",
        "fname = 0\r\n",
        "for thumb in thumbs:\r\n",
        "  image = requests.get(thumb)\r\n",
        "  image.raise_for_status()\r\n",
        "  img = Image.open(BytesIO(image.content)).convert('RGBA')\r\n",
        "  all_images.append(img)\r\n",
        "  with open('thumb_' + str(fname) + '.png','wb') as f:\r\n",
        "      xyz = bytearray(image.content)\r\n",
        "      f.write(xyz)\r\n",
        "      fname += 1"
      ],
      "execution_count": 37,
      "outputs": []
    },
    {
      "cell_type": "code",
      "metadata": {
        "colab": {
          "base_uri": "https://localhost:8080/"
        },
        "id": "k5YFe_plzC8d",
        "outputId": "a22e7d5a-f343-4af5-97d6-701b96983812"
      },
      "source": [
        "len(all_images)"
      ],
      "execution_count": null,
      "outputs": [
        {
          "output_type": "execute_result",
          "data": {
            "text/plain": [
              "10"
            ]
          },
          "metadata": {
            "tags": []
          },
          "execution_count": 34
        }
      ]
    },
    {
      "cell_type": "code",
      "metadata": {
        "id": "Hgf4qJ-kzC54"
      },
      "source": [
        ""
      ],
      "execution_count": null,
      "outputs": []
    },
    {
      "cell_type": "code",
      "metadata": {
        "id": "tRPMH7VHzC3L"
      },
      "source": [
        ""
      ],
      "execution_count": null,
      "outputs": []
    },
    {
      "cell_type": "code",
      "metadata": {
        "id": "-sDTZRgzzEMF"
      },
      "source": [
        ""
      ],
      "execution_count": null,
      "outputs": []
    },
    {
      "cell_type": "code",
      "metadata": {
        "id": "MCDqD0LnzEJN"
      },
      "source": [
        ""
      ],
      "execution_count": null,
      "outputs": []
    },
    {
      "cell_type": "code",
      "metadata": {
        "id": "7UNHGdkszEGz"
      },
      "source": [
        ""
      ],
      "execution_count": null,
      "outputs": []
    },
    {
      "cell_type": "code",
      "metadata": {
        "id": "cLA_IS86zEDd"
      },
      "source": [
        ""
      ],
      "execution_count": null,
      "outputs": []
    },
    {
      "cell_type": "code",
      "metadata": {
        "id": "lkNim2pCzEA5"
      },
      "source": [
        ""
      ],
      "execution_count": null,
      "outputs": []
    },
    {
      "cell_type": "code",
      "metadata": {
        "id": "S_DF73W9zD-N"
      },
      "source": [
        ""
      ],
      "execution_count": null,
      "outputs": []
    },
    {
      "cell_type": "code",
      "metadata": {
        "id": "QQDAD6GwzCz8"
      },
      "source": [
        ""
      ],
      "execution_count": null,
      "outputs": []
    },
    {
      "cell_type": "code",
      "metadata": {
        "id": "eE8zMgtLzCw3"
      },
      "source": [
        ""
      ],
      "execution_count": null,
      "outputs": []
    },
    {
      "cell_type": "code",
      "metadata": {
        "id": "MUcUrCowzCsw"
      },
      "source": [
        ""
      ],
      "execution_count": null,
      "outputs": []
    },
    {
      "cell_type": "code",
      "metadata": {
        "id": "y1t9x-ShzCl-"
      },
      "source": [
        ""
      ],
      "execution_count": null,
      "outputs": []
    },
    {
      "cell_type": "code",
      "metadata": {
        "id": "UGnMFrhRzCet"
      },
      "source": [
        ""
      ],
      "execution_count": null,
      "outputs": []
    }
  ]
}