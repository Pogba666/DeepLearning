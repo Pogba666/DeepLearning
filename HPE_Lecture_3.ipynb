{
  "nbformat": 4,
  "nbformat_minor": 0,
  "metadata": {
    "colab": {
      "name": "HPE_Lecture_3.ipynb",
      "provenance": [],
      "collapsed_sections": [],
      "authorship_tag": "ABX9TyML5zslOmfJFBI8YJZiGWZ/",
      "include_colab_link": true
    },
    "kernelspec": {
      "name": "python3",
      "display_name": "Python 3"
    }
  },
  "cells": [
    {
      "cell_type": "markdown",
      "metadata": {
        "id": "view-in-github",
        "colab_type": "text"
      },
      "source": [
        "<a href=\"https://colab.research.google.com/github/Pogba666/DeepLearning/blob/main/HPE_Lecture_3.ipynb\" target=\"_parent\"><img src=\"https://colab.research.google.com/assets/colab-badge.svg\" alt=\"Open In Colab\"/></a>"
      ]
    },
    {
      "cell_type": "code",
      "metadata": {
        "colab": {
          "base_uri": "https://localhost:8080/"
        },
        "id": "QTyFK8M1sANZ",
        "outputId": "bc9f5273-adad-4149-9b37-02dcdd8e8ba7"
      },
      "source": [
        "%tensorflow_version 1.x\r\n",
        "import tensorflow as tf\r\n",
        "print(tf.__version__)"
      ],
      "execution_count": 1,
      "outputs": [
        {
          "output_type": "stream",
          "text": [
            "TensorFlow 1.x selected.\n",
            "1.15.2\n"
          ],
          "name": "stdout"
        }
      ]
    },
    {
      "cell_type": "code",
      "metadata": {
        "id": "quzDFzzWs6nQ"
      },
      "source": [
        "from tensorflow import keras\r\n",
        "import numpy as np\r\n",
        "import matplotlib.pyplot as plt\r\n",
        "fashion = keras.datasets.fashion_mnist"
      ],
      "execution_count": 2,
      "outputs": []
    },
    {
      "cell_type": "code",
      "metadata": {
        "id": "JyWrWl7Rs9sb"
      },
      "source": [
        "(trainimages,trainlabels), (testimages, testlabels) = fashion.load_data()"
      ],
      "execution_count": 3,
      "outputs": []
    },
    {
      "cell_type": "code",
      "metadata": {
        "colab": {
          "base_uri": "https://localhost:8080/"
        },
        "id": "IoE4IXaqtBEk",
        "outputId": "cfb35c06-0790-4393-84d2-bbccce6444e9"
      },
      "source": [
        "trainimages.shape"
      ],
      "execution_count": 4,
      "outputs": [
        {
          "output_type": "execute_result",
          "data": {
            "text/plain": [
              "(60000, 28, 28)"
            ]
          },
          "metadata": {
            "tags": []
          },
          "execution_count": 4
        }
      ]
    },
    {
      "cell_type": "code",
      "metadata": {
        "colab": {
          "base_uri": "https://localhost:8080/"
        },
        "id": "KHGdCAXotC24",
        "outputId": "e896c122-7b20-455f-d1e5-bbf9490548a9"
      },
      "source": [
        "len(trainlabels)"
      ],
      "execution_count": 5,
      "outputs": [
        {
          "output_type": "execute_result",
          "data": {
            "text/plain": [
              "60000"
            ]
          },
          "metadata": {
            "tags": []
          },
          "execution_count": 5
        }
      ]
    },
    {
      "cell_type": "code",
      "metadata": {
        "colab": {
          "base_uri": "https://localhost:8080/"
        },
        "id": "eTd4bH5gtFwl",
        "outputId": "ffa80589-bba6-427b-aff0-a3d79a4b0151"
      },
      "source": [
        "len(testlabels)"
      ],
      "execution_count": 6,
      "outputs": [
        {
          "output_type": "execute_result",
          "data": {
            "text/plain": [
              "10000"
            ]
          },
          "metadata": {
            "tags": []
          },
          "execution_count": 6
        }
      ]
    },
    {
      "cell_type": "code",
      "metadata": {
        "colab": {
          "base_uri": "https://localhost:8080/",
          "height": 282
        },
        "id": "fNbWdIF5tHkm",
        "outputId": "c643445b-864e-49b2-99bb-e632498732e4"
      },
      "source": [
        "classes = {0: 'T-shirt/top',\r\n",
        "1: 'Trouser',\r\n",
        "2: 'Pullover',\r\n",
        "3: 'Dress',\r\n",
        "4: 'Coat',\r\n",
        "5: 'Sandal',\r\n",
        "6: 'Shirt',\r\n",
        "7: 'Sneaker',\r\n",
        "8: 'Bag',\r\n",
        "9: 'Ankle boot'}\r\n",
        "\r\n",
        "x = 11\r\n",
        "plt.imshow(trainimages[x], cmap = 'gray')\r\n",
        "plt.colorbar()\r\n",
        "plt.grid(False)\r\n",
        "print(classes[trainlabels[x]])"
      ],
      "execution_count": 7,
      "outputs": [
        {
          "output_type": "stream",
          "text": [
            "Ankle boot\n"
          ],
          "name": "stdout"
        },
        {
          "output_type": "display_data",
          "data": {
            "image/png": "[encoded data removed]",
            "text/plain": [
              "<Figure size 432x288 with 2 Axes>"
            ]
          },
          "metadata": {
            "tags": [],
            "needs_background": "light"
          }
        }
      ]
    },
    {
      "cell_type": "code",
      "metadata": {
        "colab": {
          "base_uri": "https://localhost:8080/",
          "height": 286
        },
        "id": "c2C8bLnZtLoO",
        "outputId": "1cd3607d-307a-4ced-8377-fe99015dbcd6"
      },
      "source": [
        "trainx = trainimages /255.0\r\n",
        "testx = testimages /255.0\r\n",
        "\r\n",
        "x = 11\r\n",
        "plt.imshow(trainx[x], cmap = 'gray')\r\n",
        "plt.colorbar()\r\n",
        "plt.grid(False)\r\n",
        "print(classes[trainlabels[x]])"
      ],
      "execution_count": 8,
      "outputs": [
        {
          "output_type": "stream",
          "text": [
            "Ankle boot\n"
          ],
          "name": "stdout"
        },
        {
          "output_type": "display_data",
          "data": {
            "image/png": "[encoded data removed]",
            "text/plain": [
              "<Figure size 432x288 with 2 Axes>"
            ]
          },
          "metadata": {
            "tags": [],
            "needs_background": "light"
          }
        }
      ]
    },
    {
      "cell_type": "code",
      "metadata": {
        "colab": {
          "base_uri": "https://localhost:8080/"
        },
        "id": "kZpX320cvroQ",
        "outputId": "74735f60-2811-48ac-b176-4fff592f35c9"
      },
      "source": [
        "hp1_m1_hidden1 = 128\r\n",
        "\r\n",
        "l1_m1 = keras.layers.Flatten(input_shape = (28,28))\r\n",
        "l2_m1 = keras.layers.Dense(hp1_m1_hidden1, activation = tf.nn.relu)\r\n",
        "l3_m1 = keras.layers.Dense(10, activation=tf.nn.softmax)\r\n",
        "m1 = keras.Sequential([l1_m1, l2_m1, l3_m1])"
      ],
      "execution_count": 9,
      "outputs": [
        {
          "output_type": "stream",
          "text": [
            "WARNING:tensorflow:From /tensorflow-1.15.2/python3.6/tensorflow_core/python/ops/resource_variable_ops.py:1630: calling BaseResourceVariable.__init__ (from tensorflow.python.ops.resource_variable_ops) with constraint is deprecated and will be removed in a future version.\n",
            "Instructions for updating:\n",
            "If using Keras pass *_constraint arguments to layers.\n"
          ],
          "name": "stdout"
        }
      ]
    },
    {
      "cell_type": "code",
      "metadata": {
        "id": "508zMbMo0tvM"
      },
      "source": [
        "hp1_m2_hidden1 = 64\r\n",
        "\r\n",
        "l1_m2 = keras.layers.Flatten(input_shape = (28,28))\r\n",
        "l2_m2 = keras.layers.Dense(hp1_m2_hidden1, activation = tf.nn.relu)\r\n",
        "l3_m2 = keras.layers.Dense(10, activation=tf.nn.softmax)\r\n",
        "m2 = keras.Sequential([l1_m2, l2_m2, l3_m2])"
      ],
      "execution_count": 10,
      "outputs": []
    },
    {
      "cell_type": "code",
      "metadata": {
        "id": "79spyxwD1GqI"
      },
      "source": [
        "hp1_m3_hidden1 = 64\r\n",
        "hp2_m3_hidden2 = 128\r\n",
        "l1_m3 = keras.layers.Flatten(input_shape = (28,28))\r\n",
        "l2_m3 = keras.layers.Dense(hp1_m3_hidden1, activation = tf.nn.relu)\r\n",
        "l3_m3 = keras.layers.Dense(hp2_m3_hidden2, activation = tf.nn.relu)\r\n",
        "l4_m3 = keras.layers.Dense(10, activation=tf.nn.softmax)\r\n",
        "m3 = keras.Sequential([l1_m3, l2_m3, l3_m3, l4_m3])"
      ],
      "execution_count": 11,
      "outputs": []
    },
    {
      "cell_type": "code",
      "metadata": {
        "id": "AmkHB1Vw1t68"
      },
      "source": [
        "m1.compile(optimizer='adam',\r\n",
        "           loss='sparse_categorical_crossentropy',\r\n",
        "           metrics=['accuracy'])\r\n",
        "m2.compile(optimizer='adam',\r\n",
        "           loss='sparse_categorical_crossentropy',\r\n",
        "           metrics=['accuracy'])\r\n",
        "m3.compile(optimizer='adam',\r\n",
        "           loss='sparse_categorical_crossentropy',\r\n",
        "           metrics=['accuracy'])"
      ],
      "execution_count": 12,
      "outputs": []
    },
    {
      "cell_type": "code",
      "metadata": {
        "colab": {
          "base_uri": "https://localhost:8080/"
        },
        "id": "RHC8a08x5VEx",
        "outputId": "1ea63fa9-a423-46b0-93ed-e6ff296858e7"
      },
      "source": [
        "m1.summary()\r\n",
        "# Second layer (784 x 128) + 128 = 100480 parameters\r\n",
        "# Third layer (128 x 10) + 10 = 1290 parameters"
      ],
      "execution_count": 13,
      "outputs": [
        {
          "output_type": "stream",
          "text": [
            "Model: \"sequential\"\n",
            "_________________________________________________________________\n",
            "Layer (type)                 Output Shape              Param #   \n",
            "=================================================================\n",
            "flatten (Flatten)            (None, 784)               0         \n",
            "_________________________________________________________________\n",
            "dense (Dense)                (None, 128)               100480    \n",
            "_________________________________________________________________\n",
            "dense_1 (Dense)              (None, 10)                1290      \n",
            "=================================================================\n",
            "Total params: 101,770\n",
            "Trainable params: 101,770\n",
            "Non-trainable params: 0\n",
            "_________________________________________________________________\n"
          ],
          "name": "stdout"
        }
      ]
    },
    {
      "cell_type": "code",
      "metadata": {
        "colab": {
          "base_uri": "https://localhost:8080/"
        },
        "id": "2JT1m_Ie5cb3",
        "outputId": "3134324f-a8aa-4d4b-a901-c9a69d798128"
      },
      "source": [
        "m2.summary()"
      ],
      "execution_count": 14,
      "outputs": [
        {
          "output_type": "stream",
          "text": [
            "Model: \"sequential_1\"\n",
            "_________________________________________________________________\n",
            "Layer (type)                 Output Shape              Param #   \n",
            "=================================================================\n",
            "flatten_1 (Flatten)          (None, 784)               0         \n",
            "_________________________________________________________________\n",
            "dense_2 (Dense)              (None, 64)                50240     \n",
            "_________________________________________________________________\n",
            "dense_3 (Dense)              (None, 10)                650       \n",
            "=================================================================\n",
            "Total params: 50,890\n",
            "Trainable params: 50,890\n",
            "Non-trainable params: 0\n",
            "_________________________________________________________________\n"
          ],
          "name": "stdout"
        }
      ]
    },
    {
      "cell_type": "code",
      "metadata": {
        "colab": {
          "base_uri": "https://localhost:8080/"
        },
        "id": "FDinrXdJ6Cqs",
        "outputId": "3af4cd4a-d1d4-42e8-fb74-1549cc155f2d"
      },
      "source": [
        "m3.summary()"
      ],
      "execution_count": 15,
      "outputs": [
        {
          "output_type": "stream",
          "text": [
            "Model: \"sequential_2\"\n",
            "_________________________________________________________________\n",
            "Layer (type)                 Output Shape              Param #   \n",
            "=================================================================\n",
            "flatten_2 (Flatten)          (None, 784)               0         \n",
            "_________________________________________________________________\n",
            "dense_4 (Dense)              (None, 64)                50240     \n",
            "_________________________________________________________________\n",
            "dense_5 (Dense)              (None, 128)               8320      \n",
            "_________________________________________________________________\n",
            "dense_6 (Dense)              (None, 10)                1290      \n",
            "=================================================================\n",
            "Total params: 59,850\n",
            "Trainable params: 59,850\n",
            "Non-trainable params: 0\n",
            "_________________________________________________________________\n"
          ],
          "name": "stdout"
        }
      ]
    },
    {
      "cell_type": "code",
      "metadata": {
        "id": "klLfGhKC6DoU"
      },
      "source": [
        ""
      ],
      "execution_count": 15,
      "outputs": []
    }
  ]
}