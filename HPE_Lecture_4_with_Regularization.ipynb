{
  "nbformat": 4,
  "nbformat_minor": 0,
  "metadata": {
    "colab": {
      "name": "HPE_Lecture_4_with Regularization.ipynb",
      "provenance": [],
      "collapsed_sections": [],
      "authorship_tag": "ABX9TyN3kj87DILh+XFvGFSXPl8D",
      "include_colab_link": true
    },
    "kernelspec": {
      "name": "python3",
      "display_name": "Python 3"
    }
  },
  "cells": [
    {
      "cell_type": "markdown",
      "metadata": {
        "id": "view-in-github",
        "colab_type": "text"
      },
      "source": [
        "<a href=\"https://colab.research.google.com/github/Pogba666/DeepLearning/blob/main/HPE_Lecture_4_with_Regularization.ipynb\" target=\"_parent\"><img src=\"https://colab.research.google.com/assets/colab-badge.svg\" alt=\"Open In Colab\"/></a>"
      ]
    },
    {
      "cell_type": "code",
      "metadata": {
        "id": "xb5wmIr7KtfW",
        "colab": {
          "base_uri": "https://localhost:8080/"
        },
        "outputId": "851cdda0-7362-4746-e84a-467a726113bf"
      },
      "source": [
        "% tensorflow_version 1.x\r\n",
        "import tensorflow as tf\r\n",
        "import numpy as np\r\n",
        "print(tf.__version__)"
      ],
      "execution_count": 1,
      "outputs": [
        {
          "output_type": "stream",
          "text": [
            "TensorFlow 1.x selected.\n",
            "1.15.2\n"
          ],
          "name": "stdout"
        }
      ]
    },
    {
      "cell_type": "code",
      "metadata": {
        "colab": {
          "base_uri": "https://localhost:8080/"
        },
        "id": "qOlauglwQ2EQ",
        "outputId": "a269b5b6-b668-47e3-aa82-06dee81d5c16"
      },
      "source": [
        "from tensorflow import keras\r\n",
        "imdb = keras.datasets.imdb\r\n",
        "hp_dict_size = 10000  # HyperParameter choose based on frequency of usage\r\n",
        "(xtrain, ytrain), (xtest, ytest) = imdb.load_data(num_words=hp_dict_size)"
      ],
      "execution_count": 2,
      "outputs": [
        {
          "output_type": "stream",
          "text": [
            "Downloading data from https://storage.googleapis.com/tensorflow/tf-keras-datasets/imdb.npz\n",
            "17465344/17464789 [==============================] - 0s 0us/step\n"
          ],
          "name": "stdout"
        },
        {
          "output_type": "stream",
          "text": [
            "/tensorflow-1.15.2/python3.6/tensorflow_core/python/keras/datasets/imdb.py:129: VisibleDeprecationWarning: Creating an ndarray from ragged nested sequences (which is a list-or-tuple of lists-or-tuples-or ndarrays with different lengths or shapes) is deprecated. If you meant to do this, you must specify 'dtype=object' when creating the ndarray\n",
            "  x_train, y_train = np.array(xs[:idx]), np.array(labels[:idx])\n",
            "/tensorflow-1.15.2/python3.6/tensorflow_core/python/keras/datasets/imdb.py:130: VisibleDeprecationWarning: Creating an ndarray from ragged nested sequences (which is a list-or-tuple of lists-or-tuples-or ndarrays with different lengths or shapes) is deprecated. If you meant to do this, you must specify 'dtype=object' when creating the ndarray\n",
            "  x_test, y_test = np.array(xs[idx:]), np.array(labels[idx:])\n"
          ],
          "name": "stderr"
        }
      ]
    },
    {
      "cell_type": "code",
      "metadata": {
        "colab": {
          "base_uri": "https://localhost:8080/"
        },
        "id": "mbmTIEy_ZZKE",
        "outputId": "7003c7e2-3a04-4037-8f86-dbfa10db36ff"
      },
      "source": [
        "print(ytrain[:10])\r\n",
        "# Gives a sentiment\r\n",
        "# 1 - Positive\r\n",
        "# 0 - Negative"
      ],
      "execution_count": 3,
      "outputs": [
        {
          "output_type": "stream",
          "text": [
            "[1 0 0 1 0 0 1 0 1 0]\n"
          ],
          "name": "stdout"
        }
      ]
    },
    {
      "cell_type": "code",
      "metadata": {
        "colab": {
          "base_uri": "https://localhost:8080/"
        },
        "id": "x__srzIHZoD3",
        "outputId": "c442ee78-05e3-487a-a196-2feeb8f45f3e"
      },
      "source": [
        "wordIndex = imdb.get_word_index()\r\n",
        "# print(wordIndex[42])\r\n",
        "print(wordIndex['hello'])\r\n",
        "# Both options done to check if number used as word or word is tokenised as number\r\n",
        "# Ranking of words given based on frequency of occurence"
      ],
      "execution_count": 4,
      "outputs": [
        {
          "output_type": "stream",
          "text": [
            "Downloading data from https://storage.googleapis.com/tensorflow/tf-keras-datasets/imdb_word_index.json\n",
            "1646592/1641221 [==============================] - 0s 0us/step\n",
            "4822\n"
          ],
          "name": "stdout"
        }
      ]
    },
    {
      "cell_type": "code",
      "metadata": {
        "colab": {
          "base_uri": "https://localhost:8080/"
        },
        "id": "iV6t_qIFaA1O",
        "outputId": "8dfa1cf3-a21d-4f19-d628-b11262e403f8"
      },
      "source": [
        "print(ytrain[1])\r\n",
        "print(xtrain[1])    # Gives numbers list as output"
      ],
      "execution_count": 5,
      "outputs": [
        {
          "output_type": "stream",
          "text": [
            "0\n",
            "[1, 194, 1153, 194, 8255, 78, 228, 5, 6, 1463, 4369, 5012, 134, 26, 4, 715, 8, 118, 1634, 14, 394, 20, 13, 119, 954, 189, 102, 5, 207, 110, 3103, 21, 14, 69, 188, 8, 30, 23, 7, 4, 249, 126, 93, 4, 114, 9, 2300, 1523, 5, 647, 4, 116, 9, 35, 8163, 4, 229, 9, 340, 1322, 4, 118, 9, 4, 130, 4901, 19, 4, 1002, 5, 89, 29, 952, 46, 37, 4, 455, 9, 45, 43, 38, 1543, 1905, 398, 4, 1649, 26, 6853, 5, 163, 11, 3215, 2, 4, 1153, 9, 194, 775, 7, 8255, 2, 349, 2637, 148, 605, 2, 8003, 15, 123, 125, 68, 2, 6853, 15, 349, 165, 4362, 98, 5, 4, 228, 9, 43, 2, 1157, 15, 299, 120, 5, 120, 174, 11, 220, 175, 136, 50, 9, 4373, 228, 8255, 5, 2, 656, 245, 2350, 5, 4, 9837, 131, 152, 491, 18, 2, 32, 7464, 1212, 14, 9, 6, 371, 78, 22, 625, 64, 1382, 9, 8, 168, 145, 23, 4, 1690, 15, 16, 4, 1355, 5, 28, 6, 52, 154, 462, 33, 89, 78, 285, 16, 145, 95]\n"
          ],
          "name": "stdout"
        }
      ]
    },
    {
      "cell_type": "code",
      "metadata": {
        "colab": {
          "base_uri": "https://localhost:8080/",
          "height": 35
        },
        "id": "WQmgmyJvbbW8",
        "outputId": "126dde2b-80ca-42a7-9bd9-48330dd4943f"
      },
      "source": [
        "# This dictionary switches words and encoding from wordIndex dictionary so that we can reverse engineer the output of xtrain\r\n",
        "dictionary = { encoding:word for word,encoding in wordIndex.items() }\r\n",
        "dictionary[42]"
      ],
      "execution_count": 6,
      "outputs": [
        {
          "output_type": "execute_result",
          "data": {
            "application/vnd.google.colaboratory.intrinsic+json": {
              "type": "string"
            },
            "text/plain": [
              "\"it's\""
            ]
          },
          "metadata": {
            "tags": []
          },
          "execution_count": 6
        }
      ]
    },
    {
      "cell_type": "code",
      "metadata": {
        "colab": {
          "base_uri": "https://localhost:8080/",
          "height": 103
        },
        "id": "zv96mGUWb15s",
        "outputId": "85a93516-9bdd-4544-b8f3-57b27baccfed"
      },
      "source": [
        "# dictionary[0]   # word * 0 = 0\r\n",
        "#  NLP -> Rules\r\n",
        "# <PAD> -> 0 => Similar to padding in CV\r\n",
        "# <START> -> 1 => Starting of a sentence\r\n",
        "# <UNK> -> Unkown -> anything which we cannot make sense of\r\n",
        "# <UNUSED> -> Unused\r\n",
        "# These 4 have to be added manually to any dictionary before performing any function on it\r\n",
        "\r\n",
        "word_index = { word:(encoding + 3) for word, encoding in wordIndex.items() }\r\n",
        "word_index['<PAD>'] = 0\r\n",
        "word_index['<START>'] = 1\r\n",
        "word_index['<UNK>'] = 2\r\n",
        "word_index['<UNUSED>'] = 3\r\n",
        "\r\n",
        "dictionary = { encoding:word for word,encoding in word_index.items() }\r\n",
        "\r\n",
        "def decoder(review):\r\n",
        "    decoder_review = [dictionary.get(word) for word in review]\r\n",
        "    sentence = ' '.join(decoder_review)\r\n",
        "    return sentence\r\n",
        "\r\n",
        "print(ytrain[2])\r\n",
        "decoder(xtrain[2])\r\n",
        "# We get gibberish because we have to manipulate the data using NLP Rules"
      ],
      "execution_count": 7,
      "outputs": [
        {
          "output_type": "stream",
          "text": [
            "0\n"
          ],
          "name": "stdout"
        },
        {
          "output_type": "execute_result",
          "data": {
            "application/vnd.google.colaboratory.intrinsic+json": {
              "type": "string"
            },
            "text/plain": [
              "\"<START> this has to be one of the worst films of the 1990s when my friends i were watching this film being the target audience it was aimed at we just sat watched the first half an hour with our jaws touching the floor at how bad it really was the rest of the time everyone else in the theatre just started talking to each other leaving or generally crying into their popcorn that they actually paid money they had <UNK> working to watch this feeble excuse for a film it must have looked like a great idea on paper but on film it looks like no one in the film has a clue what is going on crap acting crap costumes i can't get across how <UNK> this is to watch save yourself an hour a bit of your life\""
            ]
          },
          "metadata": {
            "tags": []
          },
          "execution_count": 7
        }
      ]
    },
    {
      "cell_type": "code",
      "metadata": {
        "colab": {
          "base_uri": "https://localhost:8080/"
        },
        "id": "AZAMGXU2i9yr",
        "outputId": "4aaad4fa-a1de-4b3f-be0b-4d2ffa7f96b1"
      },
      "source": [
        "lengths = []\r\n",
        "for x in range(20):\r\n",
        "  lengths.append(len(xtrain[x]))\r\n",
        "print(lengths)"
      ],
      "execution_count": 8,
      "outputs": [
        {
          "output_type": "stream",
          "text": [
            "[218, 189, 141, 550, 147, 43, 123, 562, 233, 130, 450, 99, 117, 238, 109, 129, 163, 752, 212, 177]\n"
          ],
          "name": "stdout"
        }
      ]
    },
    {
      "cell_type": "code",
      "metadata": {
        "id": "NLBCjQJ2c2kC"
      },
      "source": [
        "xtrain_padded = keras.preprocessing.sequence.pad_sequences(xtrain, value = 0,\r\n",
        "                                                           padding='post',\r\n",
        "                                                           truncating='post',\r\n",
        "                                                           maxlen=256)\r\n",
        "\r\n",
        "xtest_padded = keras.preprocessing.sequence.pad_sequences(xtest, value = 0,\r\n",
        "                                                           padding='post',\r\n",
        "                                                           truncating='post',\r\n",
        "                                                           maxlen=256)"
      ],
      "execution_count": 9,
      "outputs": []
    },
    {
      "cell_type": "code",
      "metadata": {
        "colab": {
          "base_uri": "https://localhost:8080/",
          "height": 120
        },
        "id": "xWTE6yfUh8aL",
        "outputId": "8e3467b7-28d6-405d-9e0e-8fe9642ea3e1"
      },
      "source": [
        "decoder(xtrain_padded[2])"
      ],
      "execution_count": 10,
      "outputs": [
        {
          "output_type": "execute_result",
          "data": {
            "application/vnd.google.colaboratory.intrinsic+json": {
              "type": "string"
            },
            "text/plain": [
              "\"<START> this has to be one of the worst films of the 1990s when my friends i were watching this film being the target audience it was aimed at we just sat watched the first half an hour with our jaws touching the floor at how bad it really was the rest of the time everyone else in the theatre just started talking to each other leaving or generally crying into their popcorn that they actually paid money they had <UNK> working to watch this feeble excuse for a film it must have looked like a great idea on paper but on film it looks like no one in the film has a clue what is going on crap acting crap costumes i can't get across how <UNK> this is to watch save yourself an hour a bit of your life <PAD> <PAD> <PAD> <PAD> <PAD> <PAD> <PAD> <PAD> <PAD> <PAD> <PAD> <PAD> <PAD> <PAD> <PAD> <PAD> <PAD> <PAD> <PAD> <PAD> <PAD> <PAD> <PAD> <PAD> <PAD> <PAD> <PAD> <PAD> <PAD> <PAD> <PAD> <PAD> <PAD> <PAD> <PAD> <PAD> <PAD> <PAD> <PAD> <PAD> <PAD> <PAD> <PAD> <PAD> <PAD> <PAD> <PAD> <PAD> <PAD> <PAD> <PAD> <PAD> <PAD> <PAD> <PAD> <PAD> <PAD> <PAD> <PAD> <PAD> <PAD> <PAD> <PAD> <PAD> <PAD> <PAD> <PAD> <PAD> <PAD> <PAD> <PAD> <PAD> <PAD> <PAD> <PAD> <PAD> <PAD> <PAD> <PAD> <PAD> <PAD> <PAD> <PAD> <PAD> <PAD> <PAD> <PAD> <PAD> <PAD> <PAD> <PAD> <PAD> <PAD> <PAD> <PAD> <PAD> <PAD> <PAD> <PAD> <PAD> <PAD> <PAD> <PAD> <PAD> <PAD> <PAD> <PAD> <PAD> <PAD> <PAD> <PAD> <PAD> <PAD> <PAD> <PAD>\""
            ]
          },
          "metadata": {
            "tags": []
          },
          "execution_count": 10
        }
      ]
    },
    {
      "cell_type": "code",
      "metadata": {
        "id": "8u7SgKqIiHTi",
        "colab": {
          "base_uri": "https://localhost:8080/"
        },
        "outputId": "949acbec-f2de-49ea-fc18-ac5502ba4e0a"
      },
      "source": [
        "xtrain_padded[2]"
      ],
      "execution_count": 11,
      "outputs": [
        {
          "output_type": "execute_result",
          "data": {
            "text/plain": [
              "array([   1,   14,   47,    8,   30,   31,    7,    4,  249,  108,    7,\n",
              "          4, 5974,   54,   61,  369,   13,   71,  149,   14,   22,  112,\n",
              "          4, 2401,  311,   12,   16, 3711,   33,   75,   43, 1829,  296,\n",
              "          4,   86,  320,   35,  534,   19,  263, 4821, 1301,    4, 1873,\n",
              "         33,   89,   78,   12,   66,   16,    4,  360,    7,    4,   58,\n",
              "        316,  334,   11,    4, 1716,   43,  645,  662,    8,  257,   85,\n",
              "       1200,   42, 1228, 2578,   83,   68, 3912,   15,   36,  165, 1539,\n",
              "        278,   36,   69,    2,  780,    8,  106,   14, 6905, 1338,   18,\n",
              "          6,   22,   12,  215,   28,  610,   40,    6,   87,  326,   23,\n",
              "       2300,   21,   23,   22,   12,  272,   40,   57,   31,   11,    4,\n",
              "         22,   47,    6, 2307,   51,    9,  170,   23,  595,  116,  595,\n",
              "       1352,   13,  191,   79,  638,   89,    2,   14,    9,    8,  106,\n",
              "        607,  624,   35,  534,    6,  227,    7,  129,  113,    0,    0,\n",
              "          0,    0,    0,    0,    0,    0,    0,    0,    0,    0,    0,\n",
              "          0,    0,    0,    0,    0,    0,    0,    0,    0,    0,    0,\n",
              "          0,    0,    0,    0,    0,    0,    0,    0,    0,    0,    0,\n",
              "          0,    0,    0,    0,    0,    0,    0,    0,    0,    0,    0,\n",
              "          0,    0,    0,    0,    0,    0,    0,    0,    0,    0,    0,\n",
              "          0,    0,    0,    0,    0,    0,    0,    0,    0,    0,    0,\n",
              "          0,    0,    0,    0,    0,    0,    0,    0,    0,    0,    0,\n",
              "          0,    0,    0,    0,    0,    0,    0,    0,    0,    0,    0,\n",
              "          0,    0,    0,    0,    0,    0,    0,    0,    0,    0,    0,\n",
              "          0,    0,    0,    0,    0,    0,    0,    0,    0,    0,    0,\n",
              "          0,    0,    0], dtype=int32)"
            ]
          },
          "metadata": {
            "tags": []
          },
          "execution_count": 11
        }
      ]
    },
    {
      "cell_type": "code",
      "metadata": {
        "colab": {
          "base_uri": "https://localhost:8080/",
          "height": 120
        },
        "id": "Qdn7CiXZjD6H",
        "outputId": "bcdbe2ff-28f5-4ebf-bb8b-54b09e7430fe"
      },
      "source": [
        "decoder(xtrain_padded[7])"
      ],
      "execution_count": 12,
      "outputs": [
        {
          "output_type": "execute_result",
          "data": {
            "application/vnd.google.colaboratory.intrinsic+json": {
              "type": "string"
            },
            "text/plain": [
              "\"<START> the <UNK> tells the story of the four hamilton siblings teenager francis <UNK> <UNK> twins <UNK> joseph <UNK> <UNK> <UNK> <UNK> the <UNK> david samuel who is now the surrogate parent in charge the <UNK> move house a lot <UNK> is unsure why is unhappy with the way things are the fact that his brother's sister kidnap <UNK> murder people in the basement doesn't help relax or calm <UNK> nerves either francis <UNK> something just isn't right when he eventually finds out the truth things will never be the same again br br co written co produced directed by mitchell <UNK> phil <UNK> as the butcher brothers who's only other film director's credit so far is the april <UNK> day 2008 remake enough said this was one of the <UNK> to die <UNK> at the 2006 after dark <UNK> or whatever it's called in keeping with pretty much all the other's i've seen i thought the <UNK> was complete total utter crap i found the character's really poor very unlikable the slow moving story failed to capture my imagination or sustain my interest over it's 85 a half minute too long <UNK> minute duration the there's the awful twist at the end which had me laughing out loud there's this really big <UNK> build up to what's inside a <UNK> thing in the <UNK> basement it's eventually revealed to be a little boy with a teddy is that really supposed to scare us is that really supposed to shock us is that really something that\""
            ]
          },
          "metadata": {
            "tags": []
          },
          "execution_count": 12
        }
      ]
    },
    {
      "cell_type": "code",
      "metadata": {
        "id": "YD_mqs0DjH85"
      },
      "source": [
        "hp_dict_size = 10000\r\n",
        "hp_embedded_dims = 16\r\n",
        "hp_maxlen = 256\r\n",
        "hp_batchsize = 128  # constant for all models\r\n",
        "hp_epochs = 25\r\n",
        "hp_val_size = 10000\r\n",
        "hp_dropout = 0.2\r\n",
        "\r\n",
        "# Denser model\r\n",
        "hp_d_l3_l4_m1 = 64\r\n",
        "hp_d_l4_l5_m1 = 128\r\n",
        "\r\n",
        "# Shallower model\r\n",
        "hp_d_l3_l4_m2 = 32\r\n",
        "hp_d_l4_l5_m2 = 64"
      ],
      "execution_count": 70,
      "outputs": []
    },
    {
      "cell_type": "code",
      "metadata": {
        "id": "X86x-MfUv9UU"
      },
      "source": [
        "# Model 1\r\n",
        "l1_m1 = keras.layers.Embedding(hp_dict_size, hp_embedded_dims)\r\n",
        "l2_m1 = keras.layers.GlobalAveragePooling1D()\r\n",
        "l3_m1 = keras.layers.Dense(hp_d_l3_l4_m1)\r\n",
        "l4_m1 = keras.layers.Dropout(hp_dropout)\r\n",
        "l5_m1 = keras.layers.Dense(hp_d_l4_l5_m1, activation=tf.nn.relu)\r\n",
        "l6_m1 = keras.layers.Dropout(hp_dropout)\r\n",
        "l7_m1 = keras.layers.Dense(1, activation=tf.nn.sigmoid)\r\n",
        "layers_m1 = [l1_m1, l2_m1, l3_m1, l4_m1, l5_m1, l6_m1, l7_m1]\r\n",
        "\r\n",
        "# Model 2\r\n",
        "l1_m2 = keras.layers.Embedding(hp_dict_size, hp_embedded_dims)\r\n",
        "l2_m2 = keras.layers.GlobalAveragePooling1D()\r\n",
        "l3_m2 = keras.layers.Dense(hp_d_l3_l4_m2)\r\n",
        "l4_m2 = keras.layers.Dense(hp_d_l4_l5_m2, activation=tf.nn.relu)\r\n",
        "l5_m2 = keras.layers.Dropout(hp_dropout)\r\n",
        "l6_m2 = keras.layers.Dense(1, activation=tf.nn.sigmoid)\r\n",
        "layers_m2 = [l1_m2, l2_m2, l3_m2, l4_m2, l5_m2,l6_m2]"
      ],
      "execution_count": 71,
      "outputs": []
    },
    {
      "cell_type": "code",
      "metadata": {
        "id": "veCLdUxvxbGq"
      },
      "source": [
        "m1 = keras.Sequential(layers_m1)\r\n",
        "m2 = keras.Sequential(layers_m2)"
      ],
      "execution_count": 72,
      "outputs": []
    },
    {
      "cell_type": "code",
      "metadata": {
        "id": "lXu7ZuH6xxsp"
      },
      "source": [
        "m1.compile(optimizer='adam', \r\n",
        "           loss='binary_crossentropy',\r\n",
        "           metrics=['acc'])\r\n",
        "\r\n",
        "m2.compile(optimizer='adam',\r\n",
        "           loss='binary_crossentropy',\r\n",
        "           metrics=['acc'])"
      ],
      "execution_count": 73,
      "outputs": []
    },
    {
      "cell_type": "code",
      "metadata": {
        "id": "hcM6EMSo2Lnr"
      },
      "source": [
        "xval = xtest_padded[:hp_val_size]\r\n",
        "yval = ytest[:hp_val_size]\r\n",
        "ytest_red = ytest[hp_val_size:]\r\n",
        "xtest_red = xtest_padded[hp_val_size:]"
      ],
      "execution_count": 74,
      "outputs": []
    },
    {
      "cell_type": "code",
      "metadata": {
        "colab": {
          "base_uri": "https://localhost:8080/"
        },
        "id": "gR9YMyig0XGk",
        "outputId": "bca665bb-bef7-423b-8e44-a6d99ecc91f7"
      },
      "source": [
        "import time\r\n",
        "start_time = time.time()\r\n",
        "\r\n",
        "history_reg = m1.fit(xtrain_padded, ytrain, epochs = hp_epochs,\r\n",
        "                 batch_size=hp_batchsize, \r\n",
        "                 validation_data=(xval,yval))\r\n",
        "\r\n",
        "end_time = time.time()\r\n",
        "time_taken = end_time - start_time\r\n",
        "print(time_taken)"
      ],
      "execution_count": 75,
      "outputs": [
        {
          "output_type": "stream",
          "text": [
            "Train on 25000 samples, validate on 10000 samples\n",
            "Epoch 1/25\n",
            "25000/25000 [==============================] - 3s 101us/sample - loss: 0.5319 - acc: 0.7250 - val_loss: 0.3635 - val_acc: 0.8395\n",
            "Epoch 2/25\n",
            "25000/25000 [==============================] - 2s 85us/sample - loss: 0.2613 - acc: 0.8969 - val_loss: 0.3136 - val_acc: 0.8677\n",
            "Epoch 3/25\n",
            "25000/25000 [==============================] - 2s 85us/sample - loss: 0.1996 - acc: 0.9250 - val_loss: 0.3534 - val_acc: 0.8565\n",
            "Epoch 4/25\n",
            "25000/25000 [==============================] - 2s 84us/sample - loss: 0.1616 - acc: 0.9428 - val_loss: 0.3752 - val_acc: 0.8539\n",
            "Epoch 5/25\n",
            "25000/25000 [==============================] - 2s 85us/sample - loss: 0.1346 - acc: 0.9571 - val_loss: 0.4115 - val_acc: 0.8513\n",
            "Epoch 6/25\n",
            "25000/25000 [==============================] - 2s 85us/sample - loss: 0.1172 - acc: 0.9622 - val_loss: 0.4506 - val_acc: 0.8473\n",
            "Epoch 7/25\n",
            "25000/25000 [==============================] - 2s 86us/sample - loss: 0.1046 - acc: 0.9667 - val_loss: 0.5084 - val_acc: 0.8411\n",
            "Epoch 8/25\n",
            "25000/25000 [==============================] - 2s 85us/sample - loss: 0.0868 - acc: 0.9734 - val_loss: 0.5901 - val_acc: 0.8289\n",
            "Epoch 9/25\n",
            "25000/25000 [==============================] - 2s 85us/sample - loss: 0.0763 - acc: 0.9772 - val_loss: 0.6483 - val_acc: 0.8338\n",
            "Epoch 10/25\n",
            "25000/25000 [==============================] - 2s 85us/sample - loss: 0.0673 - acc: 0.9807 - val_loss: 0.7112 - val_acc: 0.8318\n",
            "Epoch 11/25\n",
            "25000/25000 [==============================] - 2s 87us/sample - loss: 0.0553 - acc: 0.9846 - val_loss: 0.7928 - val_acc: 0.8282\n",
            "Epoch 12/25\n",
            "25000/25000 [==============================] - 2s 86us/sample - loss: 0.0504 - acc: 0.9860 - val_loss: 0.8460 - val_acc: 0.8274\n",
            "Epoch 13/25\n",
            "25000/25000 [==============================] - 2s 87us/sample - loss: 0.0473 - acc: 0.9858 - val_loss: 0.9083 - val_acc: 0.8281\n",
            "Epoch 14/25\n",
            "25000/25000 [==============================] - 2s 86us/sample - loss: 0.0405 - acc: 0.9876 - val_loss: 0.9900 - val_acc: 0.8239\n",
            "Epoch 15/25\n",
            "25000/25000 [==============================] - 2s 86us/sample - loss: 0.0378 - acc: 0.9880 - val_loss: 1.0721 - val_acc: 0.8189\n",
            "Epoch 16/25\n",
            "25000/25000 [==============================] - 2s 84us/sample - loss: 0.0330 - acc: 0.9903 - val_loss: 1.1318 - val_acc: 0.8209\n",
            "Epoch 17/25\n",
            "25000/25000 [==============================] - 2s 86us/sample - loss: 0.0300 - acc: 0.9908 - val_loss: 1.2717 - val_acc: 0.8194\n",
            "Epoch 18/25\n",
            "25000/25000 [==============================] - 2s 87us/sample - loss: 0.0318 - acc: 0.9894 - val_loss: 1.2447 - val_acc: 0.8179\n",
            "Epoch 19/25\n",
            "25000/25000 [==============================] - 2s 85us/sample - loss: 0.0282 - acc: 0.9909 - val_loss: 1.2970 - val_acc: 0.8133\n",
            "Epoch 20/25\n",
            "25000/25000 [==============================] - 2s 86us/sample - loss: 0.0304 - acc: 0.9896 - val_loss: 1.3226 - val_acc: 0.8126\n",
            "Epoch 21/25\n",
            "25000/25000 [==============================] - 2s 87us/sample - loss: 0.0319 - acc: 0.9885 - val_loss: 1.3562 - val_acc: 0.8133\n",
            "Epoch 22/25\n",
            "25000/25000 [==============================] - 2s 87us/sample - loss: 0.0226 - acc: 0.9924 - val_loss: 1.4094 - val_acc: 0.8152\n",
            "Epoch 23/25\n",
            "25000/25000 [==============================] - 2s 85us/sample - loss: 0.0183 - acc: 0.9940 - val_loss: 1.5066 - val_acc: 0.8135\n",
            "Epoch 24/25\n",
            "25000/25000 [==============================] - 2s 86us/sample - loss: 0.0139 - acc: 0.9956 - val_loss: 1.6429 - val_acc: 0.8125\n",
            "Epoch 25/25\n",
            "25000/25000 [==============================] - 2s 87us/sample - loss: 0.0139 - acc: 0.9953 - val_loss: 1.7467 - val_acc: 0.8096\n",
            "54.914138317108154\n"
          ],
          "name": "stdout"
        }
      ]
    },
    {
      "cell_type": "code",
      "metadata": {
        "id": "bypCxpSY16xI"
      },
      "source": [
        "import matplotlib.pyplot as plt\r\n",
        "stats = history_reg.history\r\n",
        "val_acc = stats['val_acc']\r\n",
        "acc = stats['acc']\r\n",
        "val_loss = stats['val_loss']\r\n",
        "loss = stats['loss']\r\n",
        "epochs = range(1,hp_epochs+1)"
      ],
      "execution_count": 67,
      "outputs": []
    },
    {
      "cell_type": "code",
      "metadata": {
        "colab": {
          "base_uri": "https://localhost:8080/",
          "height": 265
        },
        "id": "ByTiTMz24bjd",
        "outputId": "154d502f-ce1a-417b-b4d4-22a8850bc34d"
      },
      "source": [
        "plt.figure()\r\n",
        "plt.plot(epochs, loss, 'bo', label='loss')\r\n",
        "plt.plot(epochs, val_loss, 'rx', label='val_loss')\r\n",
        "plt.legend()\r\n",
        "plt.show()"
      ],
      "execution_count": 68,
      "outputs": [
        {
          "output_type": "display_data",
          "data": {
            "image/png": "[encoded data removed]",
            "text/plain": [
              "<Figure size 432x288 with 1 Axes>"
            ]
          },
          "metadata": {
            "tags": [],
            "needs_background": "light"
          }
        }
      ]
    },
    {
      "cell_type": "code",
      "metadata": {
        "colab": {
          "base_uri": "https://localhost:8080/",
          "height": 265
        },
        "id": "wE5XGRit4doX",
        "outputId": "47267254-91d3-4522-cf8f-7f47fb91fff3"
      },
      "source": [
        "plt.figure()\r\n",
        "plt.plot(epochs, acc, 'bo', label='acc')\r\n",
        "plt.plot(epochs, val_acc, 'rx', label='val_acc')\r\n",
        "plt.legend()\r\n",
        "plt.show()"
      ],
      "execution_count": 69,
      "outputs": [
        {
          "output_type": "display_data",
          "data": {
            "image/png": "[encoded data removed]",
            "text/plain": [
              "<Figure size 432x288 with 1 Axes>"
            ]
          },
          "metadata": {
            "tags": [],
            "needs_background": "light"
          }
        }
      ]
    },
    {
      "cell_type": "markdown",
      "metadata": {
        "id": "dDBvGEQDJ0LI"
      },
      "source": [
        "Automation:\r\n",
        "\r\n",
        "1. Grid Search -> Exhaustively created HP combination set where some HP will be included/excluded and  combinations are generated\r\n",
        "\r\n",
        "2. Random Search -> Incomplete problems and infinite answers possible. Workable HP set.\r\n",
        "\r\n",
        "3. Bayesian Search -> Probability based"
      ]
    },
    {
      "cell_type": "code",
      "metadata": {
        "id": "A-sZeLZlGzD1"
      },
      "source": [
        ""
      ],
      "execution_count": null,
      "outputs": []
    }
  ]
}