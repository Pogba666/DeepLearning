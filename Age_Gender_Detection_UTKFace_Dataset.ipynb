{
  "nbformat": 4,
  "nbformat_minor": 0,
  "metadata": {
    "colab": {
      "name": "Age_Gender_Detection_UTKFace_Dataset.ipynb",
      "provenance": [],
      "collapsed_sections": [],
      "authorship_tag": "ABX9TyN7n6xr8iVJ2dlmhKR7HD7S",
      "include_colab_link": true
    },
    "kernelspec": {
      "name": "python3",
      "display_name": "Python 3"
    }
  },
  "cells": [
    {
      "cell_type": "markdown",
      "metadata": {
        "id": "view-in-github",
        "colab_type": "text"
      },
      "source": [
        "<a href=\"https://colab.research.google.com/github/Pogba666/DeepLearning/blob/main/Age_Gender_Detection_UTKFace_Dataset.ipynb\" target=\"_parent\"><img src=\"https://colab.research.google.com/assets/colab-badge.svg\" alt=\"Open In Colab\"/></a>"
      ]
    },
    {
      "cell_type": "code",
      "metadata": {
        "colab": {
          "base_uri": "https://localhost:8080/"
        },
        "id": "hhjTkqg-r-Ya",
        "outputId": "fd193f58-1cbf-4942-94fe-729d2c721818"
      },
      "source": [
        "from google.colab import drive\r\n",
        "drive.mount('/content/drive')"
      ],
      "execution_count": null,
      "outputs": [
        {
          "output_type": "stream",
          "text": [
            "Mounted at /content/drive\n"
          ],
          "name": "stdout"
        }
      ]
    },
    {
      "cell_type": "code",
      "metadata": {
        "id": "HBOcR4Hq4Fxg"
      },
      "source": [
        "folder = \"drive/My Drive/Face_data_based_ml/UTKFace\""
      ],
      "execution_count": null,
      "outputs": []
    },
    {
      "cell_type": "code",
      "metadata": {
        "id": "WUeWklGv4F1K"
      },
      "source": [
        "import os\r\n",
        "files = os.listdir(folder)"
      ],
      "execution_count": null,
      "outputs": []
    },
    {
      "cell_type": "code",
      "metadata": {
        "colab": {
          "base_uri": "https://localhost:8080/"
        },
        "id": "uN6Q7TUN4F5T",
        "outputId": "0849463a-584f-410a-fe16-68d568bfd34c"
      },
      "source": [
        "import cv2\r\n",
        "ages=[]\r\n",
        "genders=[]\r\n",
        "images=[]\r\n",
        "\r\n",
        "for fle in files:\r\n",
        "  age=int(fle.split('_')[0])\r\n",
        "  gender=int(fle.split('_')[1])\r\n",
        "  total=folder+'/'+fle\r\n",
        "  print(total)\r\n",
        "  image=cv2.imread(total)\r\n",
        "\r\n",
        "  image = cv2.cvtColor(image, cv2.COLOR_BGR2RGB)\r\n",
        "  image= cv2.resize(image,(48,48))\r\n",
        "  images.append(image)"
      ],
      "execution_count": null,
      "outputs": [
        {
          "output_type": "stream",
          "text": [
            "drive/My Drive/Face_data_based_ml/UTKFace/15_0_4_20170103233214059.jpg.chip.jpg\n",
            "drive/My Drive/Face_data_based_ml/UTKFace/15_0_4_20170110232416743.jpg.chip.jpg\n",
            "drive/My Drive/Face_data_based_ml/UTKFace/15_0_4_20170103201013615.jpg.chip.jpg\n",
            "drive/My Drive/Face_data_based_ml/UTKFace/15_0_2_20170104013327250.jpg.chip.jpg\n",
            "drive/My Drive/Face_data_based_ml/UTKFace/15_0_3_20170104225537649.jpg.chip.jpg\n",
            "drive/My Drive/Face_data_based_ml/UTKFace/15_0_2_20170116181405111.jpg.chip.jpg\n",
            "drive/My Drive/Face_data_based_ml/UTKFace/15_0_3_20170104225254497.jpg.chip.jpg\n",
            "drive/My Drive/Face_data_based_ml/UTKFace/15_1_0_20170103201148510.jpg.chip.jpg\n",
            "drive/My Drive/Face_data_based_ml/UTKFace/15_0_3_20170104230418059.jpg.chip.jpg\n",
            "drive/My Drive/Face_data_based_ml/UTKFace/15_0_3_20170104225906465.jpg.chip.jpg\n",
            "drive/My Drive/Face_data_based_ml/UTKFace/15_1_0_20170104013418578.jpg.chip.jpg\n",
            "drive/My Drive/Face_data_based_ml/UTKFace/15_0_2_20170102235056163.jpg.chip.jpg\n",
            "drive/My Drive/Face_data_based_ml/UTKFace/15_0_2_20161219193832243.jpg.chip.jpg\n",
            "drive/My Drive/Face_data_based_ml/UTKFace/15_0_3_20170105183235993.jpg.chip.jpg\n",
            "drive/My Drive/Face_data_based_ml/UTKFace/15_0_3_20170104225525049.jpg.chip.jpg\n",
            "drive/My Drive/Face_data_based_ml/UTKFace/15_0_4_20170104011201568.jpg.chip.jpg\n",
            "drive/My Drive/Face_data_based_ml/UTKFace/15_0_3_20170110225627090.jpg.chip.jpg\n",
            "drive/My Drive/Face_data_based_ml/UTKFace/15_1_0_20170103200925950.jpg.chip.jpg\n",
            "drive/My Drive/Face_data_based_ml/UTKFace/15_1_0_20170109203414090.jpg.chip.jpg\n",
            "drive/My Drive/Face_data_based_ml/UTKFace/15_1_0_20170105000525758.jpg.chip.jpg\n"
          ],
          "name": "stdout"
        }
      ]
    },
    {
      "cell_type": "code",
      "metadata": {
        "id": "np8EYeyq4GRP"
      },
      "source": [
        "for fle in files:\r\n",
        "  age=int(fle.split('_')[0])\r\n",
        "  gender=int(fle.split('_')[1])\r\n",
        "  ages.append(age)\r\n",
        "  genders.append(gender)"
      ],
      "execution_count": null,
      "outputs": []
    },
    {
      "cell_type": "code",
      "metadata": {
        "colab": {
          "base_uri": "https://localhost:8080/",
          "height": 99
        },
        "id": "7jIhcBmQ4GhZ",
        "outputId": "3df6ab7b-e0cf-4f56-ea81-47deff16480a"
      },
      "source": [
        "from google.colab.patches import cv2_imshow\r\n",
        "cv2_imshow(images[24])\r\n",
        "print(ages[24])\r\n",
        "print(genders[24])"
      ],
      "execution_count": null,
      "outputs": [
        {
          "output_type": "display_data",
          "data": {
            "image/png": "[encoded data removed]",
            "text/plain": [
              "<PIL.Image.Image image mode=RGB size=48x48 at 0x7F39D4EB6D30>"
            ]
          },
          "metadata": {
            "tags": []
          }
        },
        {
          "output_type": "stream",
          "text": [
            "80\n",
            "1\n"
          ],
          "name": "stdout"
        }
      ]
    },
    {
      "cell_type": "code",
      "metadata": {
        "colab": {
          "base_uri": "https://localhost:8080/",
          "height": 99
        },
        "id": "T17f_sXB4GkW",
        "outputId": "d2679856-d7b0-47d6-b456-3bc017c341da"
      },
      "source": [
        "cv2_imshow(images[53])\r\n",
        "print(ages[53])\r\n",
        "print(genders[53])"
      ],
      "execution_count": null,
      "outputs": [
        {
          "output_type": "display_data",
          "data": {
            "image/png": "[encoded data removed]",
            "text/plain": [
              "<PIL.Image.Image image mode=RGB size=48x48 at 0x7F39D4EB6BE0>"
            ]
          },
          "metadata": {
            "tags": []
          }
        },
        {
          "output_type": "stream",
          "text": [
            "80\n",
            "1\n"
          ],
          "name": "stdout"
        }
      ]
    },
    {
      "cell_type": "code",
      "metadata": {
        "id": "xt8Fv3XL4GnL"
      },
      "source": [
        "import numpy as np\r\n",
        "images_f=np.array(images)\r\n",
        "genders_f=np.array(genders)\r\n",
        "ages_f=np.array(ages)"
      ],
      "execution_count": null,
      "outputs": []
    },
    {
      "cell_type": "code",
      "metadata": {
        "id": "DcnTCz3P4GqH"
      },
      "source": [
        "np.save(folder+'image.npy',images_f)\r\n",
        "np.save(folder+'gender.npy',genders_f)\r\n",
        "np.save(folder+'age.npy',ages_f)"
      ],
      "execution_count": null,
      "outputs": []
    },
    {
      "cell_type": "code",
      "metadata": {
        "colab": {
          "base_uri": "https://localhost:8080/"
        },
        "id": "WQlRBzxQ4Gtp",
        "outputId": "84649355-0d0f-4005-cfc3-ab3dd1ffefe4"
      },
      "source": [
        "values, counts = np.unique(genders_f, return_counts=True)\r\n",
        "print(counts)"
      ],
      "execution_count": null,
      "outputs": [
        {
          "output_type": "stream",
          "text": [
            "[12391 11317]\n"
          ],
          "name": "stdout"
        }
      ]
    },
    {
      "cell_type": "code",
      "metadata": {
        "colab": {
          "base_uri": "https://localhost:8080/"
        },
        "id": "TIou-PUp5Cvc",
        "outputId": "a04f19dc-5ae8-4339-94ee-1741b0312c15"
      },
      "source": [
        "values, counts = np.unique(ages_f, return_counts=True)\r\n",
        "print(counts)"
      ],
      "execution_count": null,
      "outputs": [
        {
          "output_type": "stream",
          "text": [
            "[1123  482  289  273  196  131  139  263  166  156   65  130   81  157\n",
            "  177  247  158  262   98  284  346  395  426  859  734 2197  615  918\n",
            "  570  724  350  664  143  409  880  483  293  325  266  526  132  266\n",
            "  157  100  440  153  170  153  148  381  138  232  241  353  268  236\n",
            "   97  271   82  293  161  125  103   50  259   77   94  100   56  147\n",
            "   33   98   63   32  148   58   28   69   23  133   22   40   18   24\n",
            "  155   35   10   34   33   82    2   13    5    9   17    9   11    2\n",
            "    1    5    5    1    3    4]\n"
          ],
          "name": "stdout"
        }
      ]
    },
    {
      "cell_type": "code",
      "metadata": {
        "id": "q1njvU5V5Cyo"
      },
      "source": [
        "val=values.tolist()\r\n",
        "cnt=counts.tolist()"
      ],
      "execution_count": null,
      "outputs": []
    },
    {
      "cell_type": "code",
      "metadata": {
        "id": "5_qVJtUQ5C1q"
      },
      "source": [
        "labels=[]\r\n",
        "\r\n",
        "i=0\r\n",
        "while i<len(ages):\r\n",
        "  label=[]\r\n",
        "  label.append([ages[i]])\r\n",
        "  label.append([genders[i]])\r\n",
        "  labels.append(label)\r\n",
        "  i+=1"
      ],
      "execution_count": null,
      "outputs": []
    },
    {
      "cell_type": "code",
      "metadata": {
        "id": "EPnZ4bEk5C4s"
      },
      "source": [
        "images_f_2=images_f/255"
      ],
      "execution_count": null,
      "outputs": []
    },
    {
      "cell_type": "code",
      "metadata": {
        "id": "v4zjPvXh5C76"
      },
      "source": [
        "labels_f=np.array(labels)"
      ],
      "execution_count": null,
      "outputs": []
    },
    {
      "cell_type": "code",
      "metadata": {
        "colab": {
          "base_uri": "https://localhost:8080/"
        },
        "id": "uiUaM8Ln5C-i",
        "outputId": "8261e6e2-d7f7-4f62-aa86-cda985ac3ea3"
      },
      "source": [
        "images_f_2.shape"
      ],
      "execution_count": null,
      "outputs": [
        {
          "output_type": "execute_result",
          "data": {
            "text/plain": [
              "(23708, 48, 48, 3)"
            ]
          },
          "metadata": {
            "tags": []
          },
          "execution_count": 65
        }
      ]
    },
    {
      "cell_type": "code",
      "metadata": {
        "id": "GA7-Fzdj5DBt"
      },
      "source": [
        "from sklearn.model_selection import train_test_split\r\n",
        "X_train, X_test, Y_train, Y_test= train_test_split(images_f_2, labels_f,test_size=0.20)"
      ],
      "execution_count": null,
      "outputs": []
    },
    {
      "cell_type": "code",
      "metadata": {
        "colab": {
          "base_uri": "https://localhost:8080/"
        },
        "id": "98Sd9S-J5DEz",
        "outputId": "89267fa2-b87f-4163-9e2e-95ee851a30a1"
      },
      "source": [
        "Y_train[0:5]"
      ],
      "execution_count": null,
      "outputs": [
        {
          "output_type": "execute_result",
          "data": {
            "text/plain": [
              "array([[[29],\n",
              "        [ 0]],\n",
              "\n",
              "       [[ 1],\n",
              "        [ 0]],\n",
              "\n",
              "       [[39],\n",
              "        [ 0]],\n",
              "\n",
              "       [[34],\n",
              "        [ 0]],\n",
              "\n",
              "       [[36],\n",
              "        [ 0]]])"
            ]
          },
          "metadata": {
            "tags": []
          },
          "execution_count": 67
        }
      ]
    },
    {
      "cell_type": "code",
      "metadata": {
        "id": "LliTx8aI5DHh"
      },
      "source": [
        "Y_train_2=[Y_train[:,1],Y_train[:,0]]\r\n",
        "Y_test_2=[Y_test[:,1],Y_test[:,0]]"
      ],
      "execution_count": null,
      "outputs": []
    },
    {
      "cell_type": "code",
      "metadata": {
        "colab": {
          "base_uri": "https://localhost:8080/"
        },
        "id": "XYAfExgB5YmJ",
        "outputId": "13a87b4e-59fb-4440-adae-a0b89b266b9e"
      },
      "source": [
        "Y_train_2[0][0:5]"
      ],
      "execution_count": null,
      "outputs": [
        {
          "output_type": "execute_result",
          "data": {
            "text/plain": [
              "array([[0],\n",
              "       [0],\n",
              "       [0],\n",
              "       [0],\n",
              "       [0]])"
            ]
          },
          "metadata": {
            "tags": []
          },
          "execution_count": 69
        }
      ]
    },
    {
      "cell_type": "code",
      "metadata": {
        "colab": {
          "base_uri": "https://localhost:8080/"
        },
        "id": "CI8ZYAEN5YpH",
        "outputId": "c3a17bae-8b15-4939-bdde-9aa659646c30"
      },
      "source": [
        "Y_train_2[1][0:5]"
      ],
      "execution_count": null,
      "outputs": [
        {
          "output_type": "execute_result",
          "data": {
            "text/plain": [
              "array([[29],\n",
              "       [ 1],\n",
              "       [39],\n",
              "       [34],\n",
              "       [36]])"
            ]
          },
          "metadata": {
            "tags": []
          },
          "execution_count": 70
        }
      ]
    },
    {
      "cell_type": "code",
      "metadata": {
        "id": "JCIjxxCn5Yro"
      },
      "source": [
        "from tensorflow.keras.layers import Dropout\r\n",
        "from tensorflow.keras.layers import Flatten,BatchNormalization\r\n",
        "from tensorflow.keras.layers import Dense, MaxPooling2D,Conv2D\r\n",
        "from tensorflow.keras.layers import Input,Activation,Add\r\n",
        "from tensorflow.keras.models import Model\r\n",
        "from tensorflow.keras.regularizers import l2\r\n",
        "from tensorflow.keras.optimizers import Adam\r\n",
        "import tensorflow as tf\r\n",
        "\r\n",
        "def Convolution(input_tensor,filters):\r\n",
        "    \r\n",
        "    x = Conv2D(filters=filters,kernel_size=(3, 3),padding = 'same',strides=(1, 1),kernel_regularizer=l2(0.001))(input_tensor)\r\n",
        "    x = Dropout(0.1)(x)\r\n",
        "    x= Activation('relu')(x)\r\n",
        "\r\n",
        "    return x\r\n",
        "\r\n",
        "def model(input_shape):\r\n",
        "  inputs = Input((input_shape))\r\n",
        "  \r\n",
        "  conv_1= Convolution(inputs,32)\r\n",
        "  maxp_1 = MaxPooling2D(pool_size = (2,2)) (conv_1)\r\n",
        "  conv_2 = Convolution(maxp_1,64)\r\n",
        "  maxp_2 = MaxPooling2D(pool_size = (2, 2)) (conv_2)\r\n",
        "  conv_3 = Convolution(maxp_2,128)\r\n",
        "  maxp_3 = MaxPooling2D(pool_size = (2, 2)) (conv_3)\r\n",
        "  conv_4 = Convolution(maxp_3,256)\r\n",
        "  maxp_4 = MaxPooling2D(pool_size = (2, 2)) (conv_4)\r\n",
        "  flatten= Flatten() (maxp_4)\r\n",
        "  dense_1= Dense(64,activation='relu')(flatten)\r\n",
        "  dense_2= Dense(64,activation='relu')(flatten)\r\n",
        "  drop_1=Dropout(0.2)(dense_1)\r\n",
        "  drop_2=Dropout(0.2)(dense_2)\r\n",
        "  output_1= Dense(1,activation=\"sigmoid\",name='sex_out')(drop_1)\r\n",
        "  output_2= Dense(1,activation=\"relu\",name='age_out')(drop_2)\r\n",
        "  model = Model(inputs=[inputs], outputs=[output_1,output_2])\r\n",
        "  model.compile(loss=[\"binary_crossentropy\",\"mae\"], optimizer=\"Adam\",\r\n",
        "\tmetrics=[\"accuracy\"])\r\n",
        "  \r\n",
        "  return model"
      ],
      "execution_count": null,
      "outputs": []
    },
    {
      "cell_type": "code",
      "metadata": {
        "id": "kKLIMcYY5Yuf"
      },
      "source": [
        "Model=model((48,48,3))"
      ],
      "execution_count": null,
      "outputs": []
    },
    {
      "cell_type": "code",
      "metadata": {
        "colab": {
          "base_uri": "https://localhost:8080/"
        },
        "id": "n7PczBq45Yw_",
        "outputId": "7845381a-16df-4b98-eff6-a9859f6c1f64"
      },
      "source": [
        "Model.summary()"
      ],
      "execution_count": null,
      "outputs": [
        {
          "output_type": "stream",
          "text": [
            "Model: \"model\"\n",
            "__________________________________________________________________________________________________\n",
            "Layer (type)                    Output Shape         Param #     Connected to                     \n",
            "==================================================================================================\n",
            "input_1 (InputLayer)            [(None, 48, 48, 3)]  0                                            \n",
            "__________________________________________________________________________________________________\n",
            "conv2d (Conv2D)                 (None, 48, 48, 32)   896         input_1[0][0]                    \n",
            "__________________________________________________________________________________________________\n",
            "dropout (Dropout)               (None, 48, 48, 32)   0           conv2d[0][0]                     \n",
            "__________________________________________________________________________________________________\n",
            "activation (Activation)         (None, 48, 48, 32)   0           dropout[0][0]                    \n",
            "__________________________________________________________________________________________________\n",
            "max_pooling2d (MaxPooling2D)    (None, 24, 24, 32)   0           activation[0][0]                 \n",
            "__________________________________________________________________________________________________\n",
            "conv2d_1 (Conv2D)               (None, 24, 24, 64)   18496       max_pooling2d[0][0]              \n",
            "__________________________________________________________________________________________________\n",
            "dropout_1 (Dropout)             (None, 24, 24, 64)   0           conv2d_1[0][0]                   \n",
            "__________________________________________________________________________________________________\n",
            "activation_1 (Activation)       (None, 24, 24, 64)   0           dropout_1[0][0]                  \n",
            "__________________________________________________________________________________________________\n",
            "max_pooling2d_1 (MaxPooling2D)  (None, 12, 12, 64)   0           activation_1[0][0]               \n",
            "__________________________________________________________________________________________________\n",
            "conv2d_2 (Conv2D)               (None, 12, 12, 128)  73856       max_pooling2d_1[0][0]            \n",
            "__________________________________________________________________________________________________\n",
            "dropout_2 (Dropout)             (None, 12, 12, 128)  0           conv2d_2[0][0]                   \n",
            "__________________________________________________________________________________________________\n",
            "activation_2 (Activation)       (None, 12, 12, 128)  0           dropout_2[0][0]                  \n",
            "__________________________________________________________________________________________________\n",
            "max_pooling2d_2 (MaxPooling2D)  (None, 6, 6, 128)    0           activation_2[0][0]               \n",
            "__________________________________________________________________________________________________\n",
            "conv2d_3 (Conv2D)               (None, 6, 6, 256)    295168      max_pooling2d_2[0][0]            \n",
            "__________________________________________________________________________________________________\n",
            "dropout_3 (Dropout)             (None, 6, 6, 256)    0           conv2d_3[0][0]                   \n",
            "__________________________________________________________________________________________________\n",
            "activation_3 (Activation)       (None, 6, 6, 256)    0           dropout_3[0][0]                  \n",
            "__________________________________________________________________________________________________\n",
            "max_pooling2d_3 (MaxPooling2D)  (None, 3, 3, 256)    0           activation_3[0][0]               \n",
            "__________________________________________________________________________________________________\n",
            "flatten (Flatten)               (None, 2304)         0           max_pooling2d_3[0][0]            \n",
            "__________________________________________________________________________________________________\n",
            "dense (Dense)                   (None, 64)           147520      flatten[0][0]                    \n",
            "__________________________________________________________________________________________________\n",
            "dense_1 (Dense)                 (None, 64)           147520      flatten[0][0]                    \n",
            "__________________________________________________________________________________________________\n",
            "dropout_4 (Dropout)             (None, 64)           0           dense[0][0]                      \n",
            "__________________________________________________________________________________________________\n",
            "dropout_5 (Dropout)             (None, 64)           0           dense_1[0][0]                    \n",
            "__________________________________________________________________________________________________\n",
            "sex_out (Dense)                 (None, 1)            65          dropout_4[0][0]                  \n",
            "__________________________________________________________________________________________________\n",
            "age_out (Dense)                 (None, 1)            65          dropout_5[0][0]                  \n",
            "==================================================================================================\n",
            "Total params: 683,586\n",
            "Trainable params: 683,586\n",
            "Non-trainable params: 0\n",
            "__________________________________________________________________________________________________\n"
          ],
          "name": "stdout"
        }
      ]
    },
    {
      "cell_type": "code",
      "metadata": {
        "id": "oXbKjJN_5Y0I"
      },
      "source": [
        "from tensorflow.keras.callbacks import ModelCheckpoint\r\n",
        "import tensorflow as tf"
      ],
      "execution_count": null,
      "outputs": []
    },
    {
      "cell_type": "code",
      "metadata": {
        "id": "qOaOPNFw5Y2h"
      },
      "source": [
        "fle_s='Age_sex_detection.h5'\r\n",
        "checkpointer = ModelCheckpoint(fle_s, monitor='val_loss',verbose=1,save_best_only=True,save_weights_only=False, mode='auto',save_freq='epoch')\r\n",
        "Early_stop=tf.keras.callbacks.EarlyStopping(patience=75, monitor='val_loss',restore_best_weights=True),\r\n",
        "callback_list=[checkpointer,Early_stop]"
      ],
      "execution_count": null,
      "outputs": []
    },
    {
      "cell_type": "code",
      "metadata": {
        "colab": {
          "base_uri": "https://localhost:8080/"
        },
        "id": "erm6H9Vn5ZIP",
        "outputId": "da176ba4-0e9f-466e-c6c1-b93be63a4311"
      },
      "source": [
        "History=Model.fit(X_train,Y_train_2,batch_size=64,validation_data=(X_test,Y_test_2),epochs=5,callbacks=[callback_list])"
      ],
      "execution_count": null,
      "outputs": [
        {
          "output_type": "stream",
          "text": [
            "Epoch 1/5\n",
            "297/297 [==============================] - 155s 522ms/step - loss: 16.0145 - sex_out_loss: 0.6525 - age_out_loss: 15.1773 - sex_out_accuracy: 0.6105 - age_out_accuracy: 0.0471 - val_loss: 16.4575 - val_sex_out_loss: 0.6037 - val_age_out_loss: 15.6629 - val_sex_out_accuracy: 0.6708 - val_age_out_accuracy: 0.0485\n",
            "\n",
            "Epoch 00001: val_loss improved from inf to 16.45749, saving model to Age_sex_detection.h5\n",
            "Epoch 2/5\n",
            "297/297 [==============================] - 155s 522ms/step - loss: 12.4612 - sex_out_loss: 0.5581 - age_out_loss: 11.6818 - sex_out_accuracy: 0.7191 - age_out_accuracy: 0.0454 - val_loss: 15.7195 - val_sex_out_loss: 0.5520 - val_age_out_loss: 14.9187 - val_sex_out_accuracy: 0.7604 - val_age_out_accuracy: 0.0453\n",
            "\n",
            "Epoch 00002: val_loss improved from 16.45749 to 15.71955, saving model to Age_sex_detection.h5\n",
            "Epoch 3/5\n",
            "297/297 [==============================] - 155s 524ms/step - loss: 10.8544 - sex_out_loss: 0.4993 - age_out_loss: 10.0871 - sex_out_accuracy: 0.7608 - age_out_accuracy: 0.0451 - val_loss: 12.3711 - val_sex_out_loss: 0.4773 - val_age_out_loss: 11.6082 - val_sex_out_accuracy: 0.7739 - val_age_out_accuracy: 0.0443\n",
            "\n",
            "Epoch 00003: val_loss improved from 15.71955 to 12.37114, saving model to Age_sex_detection.h5\n",
            "Epoch 4/5\n",
            "297/297 [==============================] - 156s 525ms/step - loss: 10.1296 - sex_out_loss: 0.4585 - age_out_loss: 9.3694 - sex_out_accuracy: 0.7845 - age_out_accuracy: 0.0447 - val_loss: 11.5835 - val_sex_out_loss: 0.4435 - val_age_out_loss: 10.8239 - val_sex_out_accuracy: 0.8117 - val_age_out_accuracy: 0.0464\n",
            "\n",
            "Epoch 00004: val_loss improved from 12.37114 to 11.58350, saving model to Age_sex_detection.h5\n",
            "Epoch 5/5\n",
            "297/297 [==============================] - 155s 522ms/step - loss: 9.6599 - sex_out_loss: 0.4191 - age_out_loss: 8.9133 - sex_out_accuracy: 0.8094 - age_out_accuracy: 0.0453 - val_loss: 11.0480 - val_sex_out_loss: 0.3985 - val_age_out_loss: 10.3091 - val_sex_out_accuracy: 0.8248 - val_age_out_accuracy: 0.0439\n",
            "\n",
            "Epoch 00005: val_loss improved from 11.58350 to 11.04802, saving model to Age_sex_detection.h5\n"
          ],
          "name": "stdout"
        }
      ]
    },
    {
      "cell_type": "code",
      "metadata": {
        "colab": {
          "base_uri": "https://localhost:8080/"
        },
        "id": "_7ZWaKW15ZK6",
        "outputId": "44b9b19e-b593-4b46-a755-6d1019832fec"
      },
      "source": [
        "Model.evaluate(X_test,Y_test_2)"
      ],
      "execution_count": null,
      "outputs": [
        {
          "output_type": "stream",
          "text": [
            "149/149 [==============================] - 8s 55ms/step - loss: 11.0480 - sex_out_loss: 0.3985 - age_out_loss: 10.3091 - sex_out_accuracy: 0.8248 - age_out_accuracy: 0.0439\n"
          ],
          "name": "stdout"
        },
        {
          "output_type": "execute_result",
          "data": {
            "text/plain": [
              "[11.048016548156738,\n",
              " 0.39850959181785583,\n",
              " 10.309051513671875,\n",
              " 0.82475745677948,\n",
              " 0.04386334866285324]"
            ]
          },
          "metadata": {
            "tags": []
          },
          "execution_count": 78
        }
      ]
    },
    {
      "cell_type": "code",
      "metadata": {
        "id": "j5HT0wvC5-Jf"
      },
      "source": [
        "pred=Model.predict(X_test)"
      ],
      "execution_count": null,
      "outputs": []
    },
    {
      "cell_type": "code",
      "metadata": {
        "colab": {
          "base_uri": "https://localhost:8080/"
        },
        "id": "lyBCDQp45-Mn",
        "outputId": "5a4c9a8a-c952-4a4c-f3fe-1785152e5d16"
      },
      "source": [
        "pred[1]"
      ],
      "execution_count": null,
      "outputs": [
        {
          "output_type": "execute_result",
          "data": {
            "text/plain": [
              "array([[37.79607   ],\n",
              "       [38.65437   ],\n",
              "       [17.754019  ],\n",
              "       ...,\n",
              "       [34.08627   ],\n",
              "       [ 0.21878995],\n",
              "       [13.455658  ]], dtype=float32)"
            ]
          },
          "metadata": {
            "tags": []
          },
          "execution_count": 80
        }
      ]
    },
    {
      "cell_type": "code",
      "metadata": {
        "id": "aeu2yudl5-PP"
      },
      "source": [
        "def test_image(ind,images_f,images_f_2,Model):\r\n",
        "  cv2_imshow(images_f[ind])\r\n",
        "  image_test=images_f_2[ind]\r\n",
        "  pred_1=Model.predict(np.array([image_test]))\r\n",
        "  #print(pred_1)\r\n",
        "  sex_f=['Male','Female']\r\n",
        "  age=int(np.round(pred_1[1][0]))\r\n",
        "  sex=int(np.round(pred_1[0][0]))\r\n",
        "  print(\"Predicted Age: \"+ str(age))\r\n",
        "  print(\"Predicted Sex: \"+ sex_f[sex])"
      ],
      "execution_count": null,
      "outputs": []
    },
    {
      "cell_type": "code",
      "metadata": {
        "colab": {
          "base_uri": "https://localhost:8080/",
          "height": 99
        },
        "id": "UULq-2s05-SW",
        "outputId": "be5f2663-037e-42d7-8126-27bcc90c0eb5"
      },
      "source": [
        "test_image(57,images_f,images_f_2,Model)"
      ],
      "execution_count": null,
      "outputs": [
        {
          "output_type": "display_data",
          "data": {
            "image/png": "[encoded data removed]",
            "text/plain": [
              "<PIL.Image.Image image mode=RGB size=48x48 at 0x7F399B05ECF8>"
            ]
          },
          "metadata": {
            "tags": []
          }
        },
        {
          "output_type": "stream",
          "text": [
            "Predicted Age: 66\n",
            "Predicted Sex: Male\n"
          ],
          "name": "stdout"
        }
      ]
    },
    {
      "cell_type": "code",
      "metadata": {
        "colab": {
          "base_uri": "https://localhost:8080/",
          "height": 99
        },
        "id": "Wd2dntOs5-Wl",
        "outputId": "cfdaf906-e41c-4cf9-9353-f0d969b5f204"
      },
      "source": [
        "test_image(137,images_f,images_f_2,Model)"
      ],
      "execution_count": null,
      "outputs": [
        {
          "output_type": "display_data",
          "data": {
            "image/png": "[encoded data removed]",
            "text/plain": [
              "<PIL.Image.Image image mode=RGB size=48x48 at 0x7F399B0031D0>"
            ]
          },
          "metadata": {
            "tags": []
          }
        },
        {
          "output_type": "stream",
          "text": [
            "Predicted Age: 56\n",
            "Predicted Sex: Male\n"
          ],
          "name": "stdout"
        }
      ]
    },
    {
      "cell_type": "code",
      "metadata": {
        "colab": {
          "base_uri": "https://localhost:8080/",
          "height": 99
        },
        "id": "B3zF-oV25-d-",
        "outputId": "7c42ae4b-38d7-498c-b63b-260f1a34fb6f"
      },
      "source": [
        "test_image(502,images_f,images_f_2,Model)"
      ],
      "execution_count": null,
      "outputs": [
        {
          "output_type": "display_data",
          "data": {
            "image/png": "[encoded data removed]",
            "text/plain": [
              "<PIL.Image.Image image mode=RGB size=48x48 at 0x7F399B0312B0>"
            ]
          },
          "metadata": {
            "tags": []
          }
        },
        {
          "output_type": "stream",
          "text": [
            "Predicted Age: 2\n",
            "Predicted Sex: Male\n"
          ],
          "name": "stdout"
        }
      ]
    },
    {
      "cell_type": "code",
      "metadata": {
        "colab": {
          "base_uri": "https://localhost:8080/",
          "height": 99
        },
        "id": "343du8--6Nqd",
        "outputId": "4d1ec3ea-f585-4986-ce25-bf03128302d1"
      },
      "source": [
        "test_image(24,images_f,images_f_2,Model)"
      ],
      "execution_count": null,
      "outputs": [
        {
          "output_type": "display_data",
          "data": {
            "image/png": "[encoded data removed]",
            "text/plain": [
              "<PIL.Image.Image image mode=RGB size=48x48 at 0x7F399B008DA0>"
            ]
          },
          "metadata": {
            "tags": []
          }
        },
        {
          "output_type": "stream",
          "text": [
            "Predicted Age: 28\n",
            "Predicted Sex: Male\n"
          ],
          "name": "stdout"
        }
      ]
    }
  ]
}