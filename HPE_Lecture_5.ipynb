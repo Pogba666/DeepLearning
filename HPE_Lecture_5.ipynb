{
  "nbformat": 4,
  "nbformat_minor": 0,
  "metadata": {
    "colab": {
      "name": "HPE_Lecture_5.ipynb",
      "provenance": [],
      "collapsed_sections": [],
      "authorship_tag": "ABX9TyMekYFbSerVcfp8Z7MG/qUm",
      "include_colab_link": true
    },
    "kernelspec": {
      "name": "python3",
      "display_name": "Python 3"
    }
  },
  "cells": [
    {
      "cell_type": "markdown",
      "metadata": {
        "id": "view-in-github",
        "colab_type": "text"
      },
      "source": [
        "<a href=\"https://colab.research.google.com/github/Pogba666/DeepLearning/blob/main/HPE_Lecture_5.ipynb\" target=\"_parent\"><img src=\"https://colab.research.google.com/assets/colab-badge.svg\" alt=\"Open In Colab\"/></a>"
      ]
    },
    {
      "cell_type": "code",
      "metadata": {
        "colab": {
          "base_uri": "https://localhost:8080/"
        },
        "id": "-NdkGVz1qHgb",
        "outputId": "856960b7-9909-47d5-a2a9-41df21d9b8c2"
      },
      "source": [
        "% tensorflow_version 1.x\r\n",
        "import tensorflow as tf\r\n",
        "import numpy as np\r\n",
        "print(tf.__version__)"
      ],
      "execution_count": 1,
      "outputs": [
        {
          "output_type": "stream",
          "text": [
            "TensorFlow 1.x selected.\n",
            "1.15.2\n"
          ],
          "name": "stdout"
        }
      ]
    },
    {
      "cell_type": "code",
      "metadata": {
        "id": "MO0kphZGwubJ"
      },
      "source": [
        "temp = [ 0., 0., 1., 0., 0., 2., 0., 0., 1., 1.]\r\n",
        "values = tf.reshape(temp, [1,1,2,5])"
      ],
      "execution_count": 2,
      "outputs": []
    },
    {
      "cell_type": "code",
      "metadata": {
        "colab": {
          "base_uri": "https://localhost:8080/"
        },
        "id": "s9qeunGgyFFg",
        "outputId": "a49ba793-7322-49d6-8c7d-4adbca2084ac"
      },
      "source": [
        "values\r\n",
        "# Lazy Evaluation\r\n",
        "# Only if TF session is started, nothing will be displayed"
      ],
      "execution_count": 3,
      "outputs": [
        {
          "output_type": "execute_result",
          "data": {
            "text/plain": [
              "<tf.Tensor 'Reshape:0' shape=(1, 1, 2, 5) dtype=float32>"
            ]
          },
          "metadata": {
            "tags": []
          },
          "execution_count": 3
        }
      ]
    },
    {
      "cell_type": "code",
      "metadata": {
        "colab": {
          "base_uri": "https://localhost:8080/"
        },
        "id": "ULiI-aF2yHoJ",
        "outputId": "9ab8f62d-055b-4dc1-c8f3-935faebf7e2f"
      },
      "source": [
        "session = tf.Session()\r\n",
        "print('original')\r\n",
        "print(temp)\r\n",
        "print('*******')\r\n",
        "print('reshaped')\r\n",
        "print(session.run(values))\r\n",
        "session.close()"
      ],
      "execution_count": 4,
      "outputs": [
        {
          "output_type": "stream",
          "text": [
            "original\n",
            "[0.0, 0.0, 1.0, 0.0, 0.0, 2.0, 0.0, 0.0, 1.0, 1.0]\n",
            "*******\n",
            "reshaped\n",
            "[[[[0. 0. 1. 0. 0.]\n",
            "   [2. 0. 0. 1. 1.]]]]\n"
          ],
          "name": "stdout"
        }
      ]
    },
    {
      "cell_type": "code",
      "metadata": {
        "id": "8C9CLrQpzU7O"
      },
      "source": [
        "avgpool = tf.nn.pool(input=values, pooling_type='AVG', \r\n",
        "                                padding='VALID', window_shape=(1,2))\r\n",
        "maxpool = tf.nn.pool(input=values,pooling_type='MAX',\r\n",
        "                                padding='VALID',window_shape=(1,2))"
      ],
      "execution_count": 5,
      "outputs": []
    },
    {
      "cell_type": "code",
      "metadata": {
        "colab": {
          "base_uri": "https://localhost:8080/"
        },
        "id": "C-kJyvBi1E1S",
        "outputId": "e0381e70-d55d-45cd-9767-0ccd74688930"
      },
      "source": [
        "session = tf.Session()\r\n",
        "print('original')\r\n",
        "print(temp)\r\n",
        "print('*******')\r\n",
        "print('reshaped')\r\n",
        "print(session.run(values))\r\n",
        "print('*******')\r\n",
        "print('avg_pool')\r\n",
        "print(session.run(avgpool))\r\n",
        "print('*******')\r\n",
        "print('max_pool')\r\n",
        "print(session.run(maxpool))\r\n",
        "session.close()"
      ],
      "execution_count": 6,
      "outputs": [
        {
          "output_type": "stream",
          "text": [
            "original\n",
            "[0.0, 0.0, 1.0, 0.0, 0.0, 2.0, 0.0, 0.0, 1.0, 1.0]\n",
            "*******\n",
            "reshaped\n",
            "[[[[0. 0. 1. 0. 0.]\n",
            "   [2. 0. 0. 1. 1.]]]]\n",
            "*******\n",
            "avg_pool\n",
            "[[[[1.  0.  0.5 0.5 0.5]]]]\n",
            "*******\n",
            "max_pool\n",
            "[[[[2. 0. 1. 1. 1.]]]]\n"
          ],
          "name": "stdout"
        }
      ]
    },
    {
      "cell_type": "markdown",
      "metadata": {
        "id": "30eoIZIX16ik"
      },
      "source": [
        "For CV\r\n",
        "\r\n",
        "Max_Pooling -> Data Compression\r\n",
        "\r\n",
        "Avg_Pooling -> Blur the image"
      ]
    },
    {
      "cell_type": "code",
      "metadata": {
        "id": "Vb_Da17i2ABf"
      },
      "source": [
        "avgpool1 = tf.nn.pool(input=values, pooling_type='AVG', \r\n",
        "                                padding='SAME', window_shape=(1,2))\r\n",
        "maxpool1 = tf.nn.pool(input=values,pooling_type='MAX',\r\n",
        "                                padding='SAME',window_shape=(1,2))"
      ],
      "execution_count": 7,
      "outputs": []
    },
    {
      "cell_type": "code",
      "metadata": {
        "colab": {
          "base_uri": "https://localhost:8080/"
        },
        "id": "WEuZwFbP26Gl",
        "outputId": "b61f4fd9-7fa9-48bb-861d-1da5e9995824"
      },
      "source": [
        "session = tf.Session()\r\n",
        "print('original')\r\n",
        "print(temp)\r\n",
        "print('*******')\r\n",
        "print('reshaped')\r\n",
        "print(session.run(values))\r\n",
        "print('*******')\r\n",
        "print('avg_pool')\r\n",
        "print(session.run(avgpool1))\r\n",
        "print('*******')\r\n",
        "print('max_pool')\r\n",
        "print(session.run(maxpool1))\r\n",
        "session.close()"
      ],
      "execution_count": 8,
      "outputs": [
        {
          "output_type": "stream",
          "text": [
            "original\n",
            "[0.0, 0.0, 1.0, 0.0, 0.0, 2.0, 0.0, 0.0, 1.0, 1.0]\n",
            "*******\n",
            "reshaped\n",
            "[[[[0. 0. 1. 0. 0.]\n",
            "   [2. 0. 0. 1. 1.]]]]\n",
            "*******\n",
            "avg_pool\n",
            "[[[[1.  0.  0.5 0.5 0.5]\n",
            "   [2.  0.  0.  1.  1. ]]]]\n",
            "*******\n",
            "max_pool\n",
            "[[[[2. 0. 1. 1. 1.]\n",
            "   [2. 0. 0. 1. 1.]]]]\n"
          ],
          "name": "stdout"
        }
      ]
    },
    {
      "cell_type": "markdown",
      "metadata": {
        "id": "qhU_m7N736GP"
      },
      "source": [
        "# Regularization"
      ]
    },
    {
      "cell_type": "markdown",
      "metadata": {
        "id": "GqMYnxck4Wuh"
      },
      "source": [
        "ML -> L1 and L2 regularization -> ridge/lasso\r\n",
        "\r\n",
        "Bagging and Boosting -> Used in Decisiton Trees in ML (Decision Tree, Random Forest)\r\n",
        "\r\n",
        "Adversarial Approach -> Game theory -> Award and penalty based systemfor developing the model\r\n",
        "\r\n",
        "Dropout more common in DL -> Lesser you know, more you know\r\n",
        "\r\n",
        "Data Augmentation -> Twist data by math / stat / SME based transformations\r\n",
        "\r\n",
        "Hyperparameter tuning -> best set of HPs to use\r\n",
        "\r\n",
        "Feature Engineering -> convert raw columns into highly efficient usable ML features -> PCA,LDA, Bayesian Analysis\r\n",
        "\r\n",
        "Early Stopping -> Do not waste resources if there are obvious mistakes or obvious problems in the model\r\n"
      ]
    },
    {
      "cell_type": "code",
      "metadata": {
        "colab": {
          "base_uri": "https://localhost:8080/"
        },
        "id": "p_gGGiXJ27nq",
        "outputId": "a39b806f-4f93-4c35-a68d-dd18724c97fb"
      },
      "source": [
        "# Data Augmentation\r\n",
        "!ls"
      ],
      "execution_count": 9,
      "outputs": [
        {
          "output_type": "stream",
          "text": [
            "rashford.jpg  sample_data\n"
          ],
          "name": "stdout"
        }
      ]
    },
    {
      "cell_type": "code",
      "metadata": {
        "colab": {
          "base_uri": "https://localhost:8080/"
        },
        "id": "jQJwSV5L68DW",
        "outputId": "b514f92b-6391-4d1d-dc67-4be5c80a367b"
      },
      "source": [
        "!pip install Augmentor"
      ],
      "execution_count": 10,
      "outputs": [
        {
          "output_type": "stream",
          "text": [
            "Collecting Augmentor\n",
            "  Downloading https://files.pythonhosted.org/packages/cb/79/861f38d5830cff631e30e33b127076bfef8ac98171e51daa06df0118c75f/Augmentor-0.2.8-py2.py3-none-any.whl\n",
            "Requirement already satisfied: Pillow>=5.2.0 in /usr/local/lib/python3.6/dist-packages (from Augmentor) (7.0.0)\n",
            "Requirement already satisfied: tqdm>=4.9.0 in /usr/local/lib/python3.6/dist-packages (from Augmentor) (4.41.1)\n",
            "Requirement already satisfied: future>=0.16.0 in /usr/local/lib/python3.6/dist-packages (from Augmentor) (0.16.0)\n",
            "Requirement already satisfied: numpy>=1.11.0 in /usr/local/lib/python3.6/dist-packages (from Augmentor) (1.19.4)\n",
            "Installing collected packages: Augmentor\n",
            "Successfully installed Augmentor-0.2.8\n"
          ],
          "name": "stdout"
        }
      ]
    },
    {
      "cell_type": "code",
      "metadata": {
        "colab": {
          "base_uri": "https://localhost:8080/"
        },
        "id": "qBDvOzXj7GSO",
        "outputId": "931cb548-34a8-419d-a0bd-9a8da5a0756a"
      },
      "source": [
        "import Augmentor\r\n",
        "pipes = Augmentor.Pipeline('rashford')"
      ],
      "execution_count": 11,
      "outputs": [
        {
          "output_type": "stream",
          "text": [
            "Initialised with 1 image(s) found.\n",
            "Output directory set to rashford/output."
          ],
          "name": "stdout"
        }
      ]
    },
    {
      "cell_type": "code",
      "metadata": {
        "colab": {
          "base_uri": "https://localhost:8080/"
        },
        "id": "G4QK0jTX8VKF",
        "outputId": "5ab391eb-de42-4416-c86f-3cc11a9875ed"
      },
      "source": [
        "pipes.black_and_white(0.1)\r\n",
        "pipes.flip_left_right(0.5)\r\n",
        "pipes.random_distortion(1, 5, 5, 1)\r\n",
        "pipes.rotate(0.5, 25, 25)\r\n",
        "pipes.skew(0.25, 0.25)\r\n",
        "pipes.sample(6)"
      ],
      "execution_count": 14,
      "outputs": [
        {
          "output_type": "stream",
          "text": [
            "Processing <PIL.Image.Image image mode=1 size=2500x1667 at 0x7FBA4BDE9DA0>: 100%|██████████| 6/6 [00:06<00:00,  1.01s/ Samples]\n"
          ],
          "name": "stderr"
        }
      ]
    },
    {
      "cell_type": "code",
      "metadata": {
        "colab": {
          "base_uri": "https://localhost:8080/"
        },
        "id": "Fesau78f9raa",
        "outputId": "f05846bf-8d9a-44e9-fead-6894b59050a6"
      },
      "source": [
        "!ls rashford/output/"
      ],
      "execution_count": 15,
      "outputs": [
        {
          "output_type": "stream",
          "text": [
            "rashford_original_rashford.jpg_10610c9a-94ba-4d16-8098-46b2a95525ad.jpg\n",
            "rashford_original_rashford.jpg_a89989e7-3918-4043-91f1-242f46ad4786.jpg\n",
            "rashford_original_rashford.jpg_c4437aa9-f23f-4cd9-93b5-67636d244481.jpg\n",
            "rashford_original_rashford.jpg_d24f3010-d344-457f-84a5-036e8f520185.jpg\n",
            "rashford_original_rashford.jpg_db1d66d2-7f6a-4f80-8a13-ccf21d2780f3.jpg\n",
            "rashford_original_rashford.jpg_ecb52ad6-1cc7-4416-b40a-d6438a8eb378.jpg\n",
            "rashford_original_rashford.jpg_f7d0934d-6907-4e6d-be70-9ab2e4a641a3.jpg\n"
          ],
          "name": "stdout"
        }
      ]
    },
    {
      "cell_type": "code",
      "metadata": {
        "colab": {
          "base_uri": "https://localhost:8080/",
          "height": 217
        },
        "id": "9bWdbpIB9F-T",
        "outputId": "a511d895-3cf0-4e7a-b2c3-e3cf0bf5d4ae"
      },
      "source": [
        "import cv2\r\n",
        "from google.colab.patches import cv2_imshow\r\n",
        "img = cv2.imread('rashford/output/rashford_original_rashford.jpg_db1d66d2-7f6a-4f80-8a13-ccf21d2780f3.jpg')\r\n",
        "img = cv2.resize(img, (200,200))\r\n",
        "cv2_imshow(img)"
      ],
      "execution_count": 18,
      "outputs": [
        {
          "output_type": "display_data",
          "data": {
            "image/png": "[encoded data removed]",
            "text/plain": [
              "<PIL.Image.Image image mode=RGB size=200x200 at 0x7FBA3F3FA1D0>"
            ]
          },
          "metadata": {
            "tags": []
          }
        }
      ]
    },
    {
      "cell_type": "code",
      "metadata": {
        "id": "wbp8Hzf29-Po"
      },
      "source": [
        ""
      ],
      "execution_count": null,
      "outputs": []
    }
  ]
}